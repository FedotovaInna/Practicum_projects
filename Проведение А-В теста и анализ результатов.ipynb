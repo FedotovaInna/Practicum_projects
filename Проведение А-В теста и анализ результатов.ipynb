{
 "cells": [
  {
   "cell_type": "markdown",
   "id": "_E41Wr5fqnFT",
   "metadata": {
    "id": "_E41Wr5fqnFT"
   },
   "source": [
    "# Часть 1. Проверка гипотезы в Python и составление аналитической записки"
   ]
  },
  {
   "cell_type": "markdown",
   "id": "Z5_6nf-FrY7o",
   "metadata": {
    "id": "Z5_6nf-FrY7o"
   },
   "source": [
    "Загрузим данные пользователей из Москвы и Санкт-Петербурга c суммой часов их активности из файла yandex_knigi_data.csv.\n",
    "\n",
    "Проверим наличие дубликатов в идентификаторах пользователей. Сравним размеры групп, их статистики и распределение.\n",
    "\n",
    "Напомним, как выглядит гипотеза: пользователи из Санкт-Петербурга проводят в среднем больше времени за чтением и прослушиванием книг в приложении, чем пользователи из Москвы. Попробуем статистически это доказать, используя одностороннюю проверку гипотезы с двумя выборками:\n",
    "\n",
    "Нулевая гипотеза $H_0: \\mu_{\\text{СПб}} \\leq \\mu_{\\text{Москва}}$ <br> Среднее время активности пользователей в Санкт-Петербурге не больше, чем в Москве.\n",
    "\n",
    "Альтернативная гипотеза $H_1: \\mu_{\\text{СПб}} > \\mu_{\\text{Москва}}$ <br> Среднее время активности пользователей в Санкт-Петербурге больше, и это различие статистически значимо."
   ]
  },
  {
   "cell_type": "markdown",
   "id": "e06910dd",
   "metadata": {
    "id": "e06910dd"
   },
   "source": [
    "## Анализ времени взаимодействия с контентом приложения Яндекс.Книги пользователей из Москвы и Санкт-Петербурга\n",
    "\n",
    "- Автор: Федотова Инна\n",
    "- Дата: 30.04.2025"
   ]
  },
  {
   "cell_type": "markdown",
   "id": "4149134c",
   "metadata": {
    "id": "4149134c"
   },
   "source": [
    "## Цели и задачи проекта\n",
    "\n",
    "Цель проекта, с помощью статистических тестов проверить гипотезу о том, что пользователи из Санкт-Петербурга проводят, в среднем, больше времени за чтением и прослушиванием книг в приложении Яндекс.Книги, чем пользователи из Москвы.\n",
    "Перед проверкой нужно обработать данные, чтобы получить достоверные результаты теста."
   ]
  },
  {
   "cell_type": "markdown",
   "id": "728986ea",
   "metadata": {
    "id": "728986ea"
   },
   "source": [
    "## Описание данных\n",
    "\n",
    "Работаем с датасетом `datasets/yandex_knigi_data.csv`, который содержит данные о чтении и прослушивании контента в сервисе Яндекс Книги. Датасет включает информацию о пользователях, длительности сессий и городах: Москва и Санкт-Петербург. Данные представлены за период с 1 сентября по 11 декабря 2024 года. \n",
    "\n",
    "- `puid` — идентификатор пользователя;\n",
    "- `hours` — длительность чтения или прослушивания в часах;\n",
    "- `city` — город."
   ]
  },
  {
   "cell_type": "markdown",
   "id": "4fecaf95",
   "metadata": {
    "id": "4fecaf95"
   },
   "source": [
    "## Содержимое проекта\n",
    "\n",
    "1. Загрузка данных и знакомство с ними\n",
    "2. Проверка гипотезы в Python\n",
    "3. Аналитическая записка\n",
    "\n",
    "---"
   ]
  },
  {
   "cell_type": "markdown",
   "id": "6f7d21d6",
   "metadata": {
    "id": "6f7d21d6"
   },
   "source": [
    "## 1. Загрузка данных и знакомство с ними\n",
    "\n",
    "Загружаем данные пользователей из Москвы и Санкт-Петербурга c их активностью (суммой часов чтения и прослушивания) из  `/datasets/yandex_knigi_data.csv`."
   ]
  },
  {
   "cell_type": "code",
   "execution_count": 1,
   "id": "05faf34b",
   "metadata": {
    "id": "05faf34b"
   },
   "outputs": [],
   "source": [
    "# Выгружаем библиотеки с которыми будем работать\n",
    "import pandas as pd\n",
    "import matplotlib.pyplot as plt\n",
    "import seaborn as sns\n",
    "\n",
    "#Загрузим библиотеку для проведения теста Манна-Уитни\n",
    "from scipy.stats import mannwhitneyu\n",
    "\n",
    "#Загрузим библиотеки для оценки достаточности выборки для получения статистически значимых результатов A/B-теста\n",
    "from statsmodels.stats.power import NormalIndPower\n",
    "from statsmodels.stats.proportion import proportion_effectsize\n",
    "\n",
    "#Загрузим библиотеку для проведения Z-теста\n",
    "from statsmodels.stats.proportion import proportions_ztest"
   ]
  },
  {
   "cell_type": "code",
   "execution_count": 2,
   "id": "ce87c1db",
   "metadata": {
    "id": "ce87c1db"
   },
   "outputs": [
    {
     "name": "stdout",
     "output_type": "stream",
     "text": [
      "<class 'pandas.core.frame.DataFrame'>\n",
      "RangeIndex: 8784 entries, 0 to 8783\n",
      "Data columns (total 4 columns):\n",
      " #   Column      Non-Null Count  Dtype  \n",
      "---  ------      --------------  -----  \n",
      " 0   Unnamed: 0  8784 non-null   int64  \n",
      " 1   city        8784 non-null   object \n",
      " 2   puid        8784 non-null   int64  \n",
      " 3   hours       8784 non-null   float64\n",
      "dtypes: float64(1), int64(2), object(1)\n",
      "memory usage: 274.6+ KB\n"
     ]
    },
    {
     "data": {
      "text/html": [
       "<div>\n",
       "<style scoped>\n",
       "    .dataframe tbody tr th:only-of-type {\n",
       "        vertical-align: middle;\n",
       "    }\n",
       "\n",
       "    .dataframe tbody tr th {\n",
       "        vertical-align: top;\n",
       "    }\n",
       "\n",
       "    .dataframe thead th {\n",
       "        text-align: right;\n",
       "    }\n",
       "</style>\n",
       "<table border=\"1\" class=\"dataframe\">\n",
       "  <thead>\n",
       "    <tr style=\"text-align: right;\">\n",
       "      <th></th>\n",
       "      <th>Unnamed: 0</th>\n",
       "      <th>city</th>\n",
       "      <th>puid</th>\n",
       "      <th>hours</th>\n",
       "    </tr>\n",
       "  </thead>\n",
       "  <tbody>\n",
       "    <tr>\n",
       "      <th>0</th>\n",
       "      <td>0</td>\n",
       "      <td>Москва</td>\n",
       "      <td>9668</td>\n",
       "      <td>26.167776</td>\n",
       "    </tr>\n",
       "    <tr>\n",
       "      <th>1</th>\n",
       "      <td>1</td>\n",
       "      <td>Москва</td>\n",
       "      <td>16598</td>\n",
       "      <td>82.111217</td>\n",
       "    </tr>\n",
       "    <tr>\n",
       "      <th>2</th>\n",
       "      <td>2</td>\n",
       "      <td>Москва</td>\n",
       "      <td>80401</td>\n",
       "      <td>4.656906</td>\n",
       "    </tr>\n",
       "    <tr>\n",
       "      <th>3</th>\n",
       "      <td>3</td>\n",
       "      <td>Москва</td>\n",
       "      <td>140205</td>\n",
       "      <td>1.840556</td>\n",
       "    </tr>\n",
       "    <tr>\n",
       "      <th>4</th>\n",
       "      <td>4</td>\n",
       "      <td>Москва</td>\n",
       "      <td>248755</td>\n",
       "      <td>151.326434</td>\n",
       "    </tr>\n",
       "  </tbody>\n",
       "</table>\n",
       "</div>"
      ],
      "text/plain": [
       "   Unnamed: 0    city    puid       hours\n",
       "0           0  Москва    9668   26.167776\n",
       "1           1  Москва   16598   82.111217\n",
       "2           2  Москва   80401    4.656906\n",
       "3           3  Москва  140205    1.840556\n",
       "4           4  Москва  248755  151.326434"
      ]
     },
     "execution_count": 2,
     "metadata": {},
     "output_type": "execute_result"
    }
   ],
   "source": [
    "# Создаем датафрейм с данными\n",
    "ya_knigi= pd.read_csv('https://code.s3.yandex.net/datasets/yandex_knigi_data.csv')\n",
    "\n",
    "ya_knigi.info()\n",
    "\n",
    "ya_knigi.head()"
   ]
  },
  {
   "cell_type": "markdown",
   "id": "04fe67f8",
   "metadata": {
    "id": "f68a7419"
   },
   "source": [
    "В таблице ya_knigi 8783 строк и 4 столбца. Видим, что пропусков в данных нет, осталось проверить на дубликаты.\n"
   ]
  },
  {
   "cell_type": "code",
   "execution_count": 3,
   "id": "bb6e4ae8",
   "metadata": {},
   "outputs": [
    {
     "data": {
      "text/plain": [
       "244"
      ]
     },
     "execution_count": 3,
     "metadata": {},
     "output_type": "execute_result"
    }
   ],
   "source": [
    "#Проверяем датасет на дубликаты по идентификатору пользователя\n",
    "ya_knigi.duplicated(subset=['puid']).sum()"
   ]
  },
  {
   "cell_type": "code",
   "execution_count": 4,
   "id": "0fdfd562",
   "metadata": {},
   "outputs": [
    {
     "name": "stdout",
     "output_type": "stream",
     "text": [
      "<class 'pandas.core.frame.DataFrame'>\n",
      "Int64Index: 8540 entries, 0 to 8783\n",
      "Data columns (total 4 columns):\n",
      " #   Column      Non-Null Count  Dtype  \n",
      "---  ------      --------------  -----  \n",
      " 0   Unnamed: 0  8540 non-null   int64  \n",
      " 1   city        8540 non-null   object \n",
      " 2   puid        8540 non-null   int64  \n",
      " 3   hours       8540 non-null   float64\n",
      "dtypes: float64(1), int64(2), object(1)\n",
      "memory usage: 333.6+ KB\n"
     ]
    },
    {
     "data": {
      "text/html": [
       "<div>\n",
       "<style scoped>\n",
       "    .dataframe tbody tr th:only-of-type {\n",
       "        vertical-align: middle;\n",
       "    }\n",
       "\n",
       "    .dataframe tbody tr th {\n",
       "        vertical-align: top;\n",
       "    }\n",
       "\n",
       "    .dataframe thead th {\n",
       "        text-align: right;\n",
       "    }\n",
       "</style>\n",
       "<table border=\"1\" class=\"dataframe\">\n",
       "  <thead>\n",
       "    <tr style=\"text-align: right;\">\n",
       "      <th></th>\n",
       "      <th>Unnamed: 0</th>\n",
       "      <th>city</th>\n",
       "      <th>puid</th>\n",
       "      <th>hours</th>\n",
       "    </tr>\n",
       "  </thead>\n",
       "  <tbody>\n",
       "    <tr>\n",
       "      <th>8778</th>\n",
       "      <td>8778</td>\n",
       "      <td>Санкт-Петербург</td>\n",
       "      <td>1130000027468068</td>\n",
       "      <td>5.879444</td>\n",
       "    </tr>\n",
       "    <tr>\n",
       "      <th>8780</th>\n",
       "      <td>8780</td>\n",
       "      <td>Санкт-Петербург</td>\n",
       "      <td>1130000030307246</td>\n",
       "      <td>45.069222</td>\n",
       "    </tr>\n",
       "    <tr>\n",
       "      <th>8781</th>\n",
       "      <td>8781</td>\n",
       "      <td>Санкт-Петербург</td>\n",
       "      <td>1130000038726322</td>\n",
       "      <td>0.211944</td>\n",
       "    </tr>\n",
       "    <tr>\n",
       "      <th>8782</th>\n",
       "      <td>8782</td>\n",
       "      <td>Санкт-Петербург</td>\n",
       "      <td>1130000047892100</td>\n",
       "      <td>4.311841</td>\n",
       "    </tr>\n",
       "    <tr>\n",
       "      <th>8783</th>\n",
       "      <td>8783</td>\n",
       "      <td>Санкт-Петербург</td>\n",
       "      <td>1130000061443598</td>\n",
       "      <td>20.847222</td>\n",
       "    </tr>\n",
       "  </tbody>\n",
       "</table>\n",
       "</div>"
      ],
      "text/plain": [
       "      Unnamed: 0             city              puid      hours\n",
       "8778        8778  Санкт-Петербург  1130000027468068   5.879444\n",
       "8780        8780  Санкт-Петербург  1130000030307246  45.069222\n",
       "8781        8781  Санкт-Петербург  1130000038726322   0.211944\n",
       "8782        8782  Санкт-Петербург  1130000047892100   4.311841\n",
       "8783        8783  Санкт-Петербург  1130000061443598  20.847222"
      ]
     },
     "execution_count": 4,
     "metadata": {},
     "output_type": "execute_result"
    }
   ],
   "source": [
    "# Удаляем дубликаты\n",
    "ya_knigi=ya_knigi.drop_duplicates(subset=['puid'])\n",
    "ya_knigi.info()\n",
    "ya_knigi.tail()"
   ]
  },
  {
   "cell_type": "markdown",
   "id": "d8c96d7b",
   "metadata": {},
   "source": [
    "В процессе обработки удалили 244 дубликата по идентификатору пользователя."
   ]
  },
  {
   "cell_type": "code",
   "execution_count": 5,
   "id": "decb27fd",
   "metadata": {},
   "outputs": [
    {
     "data": {
      "text/html": [
       "<div>\n",
       "<style scoped>\n",
       "    .dataframe tbody tr th:only-of-type {\n",
       "        vertical-align: middle;\n",
       "    }\n",
       "\n",
       "    .dataframe tbody tr th {\n",
       "        vertical-align: top;\n",
       "    }\n",
       "\n",
       "    .dataframe thead th {\n",
       "        text-align: right;\n",
       "    }\n",
       "</style>\n",
       "<table border=\"1\" class=\"dataframe\">\n",
       "  <thead>\n",
       "    <tr style=\"text-align: right;\">\n",
       "      <th></th>\n",
       "      <th>city</th>\n",
       "      <th>puid</th>\n",
       "    </tr>\n",
       "  </thead>\n",
       "  <tbody>\n",
       "    <tr>\n",
       "      <th>0</th>\n",
       "      <td>Москва</td>\n",
       "      <td>6234</td>\n",
       "    </tr>\n",
       "    <tr>\n",
       "      <th>1</th>\n",
       "      <td>Санкт-Петербург</td>\n",
       "      <td>2306</td>\n",
       "    </tr>\n",
       "  </tbody>\n",
       "</table>\n",
       "</div>"
      ],
      "text/plain": [
       "              city  puid\n",
       "0           Москва  6234\n",
       "1  Санкт-Петербург  2306"
      ]
     },
     "execution_count": 5,
     "metadata": {},
     "output_type": "execute_result"
    }
   ],
   "source": [
    "#Для проведения теста, нам нужно убедиться, что выборки сопоставимы и независимы\n",
    "#Группируем данные по городу и считаем уникальных пользователей\n",
    "grp = (\n",
    "    ya_knigi\n",
    "    .groupby(['city'])\n",
    "    .agg({\n",
    "        'puid': 'nunique'\n",
    "    })\n",
    "    .reset_index()\n",
    ")\n",
    "\n",
    "grp.head()"
   ]
  },
  {
   "cell_type": "code",
   "execution_count": 6,
   "id": "88fe59f6",
   "metadata": {},
   "outputs": [
    {
     "data": {
      "text/plain": [
       "[]"
      ]
     },
     "execution_count": 6,
     "metadata": {},
     "output_type": "execute_result"
    }
   ],
   "source": [
    "#Создадим выборки для Москвы и Санкт-Петербурга\n",
    "mos=ya_knigi[ya_knigi.city=='Москва']\n",
    "spb=ya_knigi[ya_knigi.city=='Санкт-Петербург']\n",
    "#Проверим пересечения в выборках\n",
    "intersection = list(set(mos['puid']) & set(spb['puid']))\n",
    "intersection"
   ]
  },
  {
   "cell_type": "markdown",
   "id": "e8e0de61",
   "metadata": {},
   "source": [
    "Группы независимы, так как нет пользователей, которые встречаются одновременно в двух группах.\n",
    "\n",
    "Пользователей из Москвы почти в 3 раза больше, чем пользователей из Санкт-Петербурга, это может исказить результаты теста. \n",
    "\n",
    "Проверим распределение по времени взаимодествия с контентом для Москвы и Санкт-Петербурга"
   ]
  },
  {
   "cell_type": "code",
   "execution_count": 7,
   "id": "7839f869",
   "metadata": {},
   "outputs": [
    {
     "data": {
      "text/plain": [
       "count    6234.000000\n",
       "mean       10.881092\n",
       "std        36.851683\n",
       "min         0.000018\n",
       "25%         0.059903\n",
       "50%         0.924498\n",
       "75%         5.939972\n",
       "max       857.209373\n",
       "Name: hours, dtype: float64"
      ]
     },
     "metadata": {},
     "output_type": "display_data"
    },
    {
     "data": {
      "text/plain": [
       "count    2306.000000\n",
       "mean       11.264433\n",
       "std        39.831755\n",
       "min         0.000025\n",
       "25%         0.060173\n",
       "50%         0.875355\n",
       "75%         6.138424\n",
       "max       978.764775\n",
       "Name: hours, dtype: float64"
      ]
     },
     "metadata": {},
     "output_type": "display_data"
    }
   ],
   "source": [
    "#Создадим выборки с временем взаимодействия с контентом для Мск и Спб\n",
    "mos_hours=mos['hours']\n",
    "spb_hours=spb['hours']\n",
    "#Посмотрим распределение данных о времени взаимодействия\n",
    "display(mos_hours.describe(),\n",
    "        spb_hours.describe())"
   ]
  },
  {
   "cell_type": "markdown",
   "id": "137453ad",
   "metadata": {},
   "source": [
    "Видим, что для данных характерен большой разброс. При этом, среднее значение, стандартное отклонение, квантили, минимальные и максимальные значения достаточно сопоставимы для двух выборок."
   ]
  },
  {
   "cell_type": "code",
   "execution_count": 8,
   "id": "460c046d",
   "metadata": {},
   "outputs": [
    {
     "data": {
      "image/png": "[encoded data removed]",
      "text/plain": [
       "<Figure size 1008x288 with 1 Axes>"
      ]
     },
     "metadata": {
      "needs_background": "light"
     },
     "output_type": "display_data"
    }
   ],
   "source": [
    "#Построим гистограмму рапрседеления данных для двух городов\n",
    "plt.figure(figsize=(14, 4))\n",
    "plt.hist(mos_hours, bins=50, label='Москва', alpha=0.5)\n",
    "plt.hist(spb_hours, bins=50, label='Санкт-Петербург', alpha=0.5)\n",
    "\n",
    "plt.xlabel('Длительность взаимодействия в часах.')\n",
    "plt.title('Гистограмма распределения длительности взаимодействия с контентом')\n",
    "plt.legend()\n",
    "plt.show()"
   ]
  },
  {
   "cell_type": "markdown",
   "id": "73c2d426",
   "metadata": {},
   "source": [
    "Распределение у выборок экспоненциональное, также в распределении имеются большие хвосты. В связи с этим, для проверки гипотезы будем использовать тест Манна-Уитни."
   ]
  },
  {
   "cell_type": "markdown",
   "id": "956e82e2",
   "metadata": {
    "id": "956e82e2"
   },
   "source": [
    "## 2. Проверка гипотезы в Python\n",
    "\n",
    "Гипотеза звучит так: пользователи из Санкт-Петербурга проводят в среднем больше времени за чтением и прослушиванием книг в приложении, чем пользователи из Москвы. Попробуем статистически это доказать, используя одностороннюю проверку гипотезы с двумя выборками:\n",
    "\n",
    "- Нулевая гипотеза H₀: Средняя активность пользователей в часах в двух группах (Москва и Санкт-Петербург) не различается.\n",
    "\n",
    "- Альтернативная гипотеза H₁: Средняя активность пользователей в Санкт-Петербурге больше, и это различие статистически значимо."
   ]
  },
  {
   "cell_type": "code",
   "execution_count": 9,
   "id": "ddaf086c",
   "metadata": {},
   "outputs": [
    {
     "name": "stdout",
     "output_type": "stream",
     "text": [
      "p-value теста Манна — Уитни =0.62\n",
      "Нулевая гипотеза находит подтверждение! Распределения метрики в группах не различаются\n",
      "Интерпретация: Средняя активность пользователей в часах в двух группах (Москва и Санкт-Петербург) не различается\n"
     ]
    }
   ],
   "source": [
    "# Установим уровень значимости =5%\n",
    "alpha=0.05\n",
    "#Применяем тест Манна-Уитни\n",
    "mw_test = mannwhitneyu(\n",
    "    spb_hours,\n",
    "    mos_hours,\n",
    "    alternative='greater' # тк по альтернативной гипотезе в Спб время взаимодействия больше чем в Мск\n",
    ") \n",
    "\n",
    "if mw_test.pvalue >alpha:\n",
    "    print(f'p-value теста Манна — Уитни ={round(mw_test.pvalue, 2)}')\n",
    "    print('Нулевая гипотеза находит подтверждение! Распределения метрики в группах не различаются')\n",
    "    print('Интерпретация: Средняя активность пользователей в часах в двух группах (Москва и Санкт-Петербург) не различается')\n",
    "\n",
    "\n",
    "else:\n",
    "    print(f'p-value теста Манна — Уитни ={round(mw_test.pvalue, 2)}')\n",
    "    print('Нулевая гипотеза не находит подтверждения! Распределения метрики в группе A меньше, чем в B')\n",
    "    print('Интерпретация: Средняя активность пользователей в Санкт-Петербурге больше, и это различие статистически значимо')   \n"
   ]
  },
  {
   "cell_type": "markdown",
   "id": "6953e84c",
   "metadata": {
    "id": "6953e84c"
   },
   "source": [
    "## 3. Аналитическая записка\n",
    "Проверяли гипотезу о том, что пользователи из Санкт-Петербурга проводят в среднем больше времени за чтением и прослушиванием книг в приложении, чем пользователи из Москвы.\n",
    "\n",
    "- Для проверки выбран тест Манна — Уитни и уровень статистической значимости - 5%.\n",
    "\n",
    "- p-value=0.38, нулевая гипотеза нашла подтверждение.\n",
    "\n",
    "- Средняя активность пользователей в часах в двух группах (Москва и Санкт-Петербург) не различается. Гипотеза о том, что пользователи из Санкт-Петербурга дольше взаимодействует с контентом, чем пользователи из Москвы - отвергнута.\n",
    "\n",
    "- Вероятно, пользователи ведут себя схожим образом из-за того что находятся в крупнейших и экономически развитых городах России.\n",
    "\n"
   ]
  },
  {
   "cell_type": "markdown",
   "id": "hc1d6jVISegz",
   "metadata": {
    "id": "hc1d6jVISegz"
   },
   "source": [
    "----"
   ]
  },
  {
   "cell_type": "markdown",
   "id": "NqOUIYhbrIfC",
   "metadata": {
    "id": "NqOUIYhbrIfC"
   },
   "source": [
    "# Часть 2. Анализ результатов A/B-тестирования"
   ]
  },
  {
   "cell_type": "markdown",
   "id": "tDwMKFNGsClr",
   "metadata": {
    "id": "tDwMKFNGsClr"
   },
   "source": [
    "Теперь нам нужно проанализировать другие данные. К нам обратились представители интернет-магазина BitMotion Kit, в котором продаются геймифицированные товары для тех, кто ведёт здоровый образ жизни. У него есть своя целевая аудитория, даже появились хиты продаж: эспандер со счётчиком и напоминанием, так и подстольный велотренажёр с Bluetooth.\n",
    "\n",
    "В будущем компания хочет расширить ассортимент товаров. Но перед этим нужно решить одну проблему. Интерфейс онлайн-магазина слишком сложен для пользователей — об этом говорят отзывы.\n",
    "\n",
    "Чтобы привлечь новых клиентов и увеличить число продаж, владельцы магазина разработали новую версию сайта и протестировали его на части пользователей. По задумке, это решение доказуемо повысит количество пользователей, которые совершат покупку.\n",
    "\n",
    "Наша задача — провести оценку результатов A/B-теста. В нашем распоряжении:\n",
    "\n",
    "* данные о действиях пользователей и распределении их на группы,\n",
    "\n",
    "* техническое задание.\n",
    "\n",
    "Оценим корректность проведения теста и проанализируем его результаты."
   ]
  },
  {
   "cell_type": "markdown",
   "id": "UNXAAyF5r9Rk",
   "metadata": {
    "id": "UNXAAyF5r9Rk"
   },
   "source": [
    "## 1. Цели исследования.\n",
    "\n"
   ]
  },
  {
   "cell_type": "markdown",
   "id": "kHx-51yES8bd",
   "metadata": {
    "id": "kHx-51yES8bd"
   },
   "source": [
    "Ислледование результата A/B-теста, для проверки гипотезы:\n",
    "- упрощение интерфейса приведёт к тому, что в течение семи дней после регистрации в системе, конверсия зарегистрированных пользователей в покупателей увеличится, как минимум, на три процентных пункта."
   ]
  },
  {
   "cell_type": "markdown",
   "id": "_CZryx2OsH-s",
   "metadata": {
    "id": "_CZryx2OsH-s"
   },
   "source": [
    "## 2. Загружаем данные и оцениваем их целостность.\n"
   ]
  },
  {
   "cell_type": "code",
   "execution_count": 10,
   "id": "DjFcJbeGsTIg",
   "metadata": {
    "id": "DjFcJbeGsTIg"
   },
   "outputs": [],
   "source": [
    "participants = pd.read_csv('https://code.s3.yandex.net/datasets/ab_test_participants.csv')\n",
    "events = pd.read_csv('https://code.s3.yandex.net/datasets/ab_test_events.zip',\n",
    "                     parse_dates=['event_dt'], low_memory=False)"
   ]
  },
  {
   "cell_type": "code",
   "execution_count": 11,
   "id": "d51520bc",
   "metadata": {},
   "outputs": [
    {
     "name": "stdout",
     "output_type": "stream",
     "text": [
      "<class 'pandas.core.frame.DataFrame'>\n",
      "RangeIndex: 14525 entries, 0 to 14524\n",
      "Data columns (total 4 columns):\n",
      " #   Column   Non-Null Count  Dtype \n",
      "---  ------   --------------  ----- \n",
      " 0   user_id  14525 non-null  object\n",
      " 1   group    14525 non-null  object\n",
      " 2   ab_test  14525 non-null  object\n",
      " 3   device   14525 non-null  object\n",
      "dtypes: object(4)\n",
      "memory usage: 454.0+ KB\n"
     ]
    },
    {
     "data": {
      "text/html": [
       "<div>\n",
       "<style scoped>\n",
       "    .dataframe tbody tr th:only-of-type {\n",
       "        vertical-align: middle;\n",
       "    }\n",
       "\n",
       "    .dataframe tbody tr th {\n",
       "        vertical-align: top;\n",
       "    }\n",
       "\n",
       "    .dataframe thead th {\n",
       "        text-align: right;\n",
       "    }\n",
       "</style>\n",
       "<table border=\"1\" class=\"dataframe\">\n",
       "  <thead>\n",
       "    <tr style=\"text-align: right;\">\n",
       "      <th></th>\n",
       "      <th>user_id</th>\n",
       "      <th>group</th>\n",
       "      <th>ab_test</th>\n",
       "      <th>device</th>\n",
       "    </tr>\n",
       "  </thead>\n",
       "  <tbody>\n",
       "    <tr>\n",
       "      <th>0</th>\n",
       "      <td>0002CE61FF2C4011</td>\n",
       "      <td>B</td>\n",
       "      <td>interface_eu_test</td>\n",
       "      <td>Mac</td>\n",
       "    </tr>\n",
       "    <tr>\n",
       "      <th>1</th>\n",
       "      <td>001064FEAAB631A1</td>\n",
       "      <td>B</td>\n",
       "      <td>recommender_system_test</td>\n",
       "      <td>Android</td>\n",
       "    </tr>\n",
       "    <tr>\n",
       "      <th>2</th>\n",
       "      <td>001064FEAAB631A1</td>\n",
       "      <td>A</td>\n",
       "      <td>interface_eu_test</td>\n",
       "      <td>Android</td>\n",
       "    </tr>\n",
       "    <tr>\n",
       "      <th>3</th>\n",
       "      <td>0010A1C096941592</td>\n",
       "      <td>A</td>\n",
       "      <td>recommender_system_test</td>\n",
       "      <td>Android</td>\n",
       "    </tr>\n",
       "    <tr>\n",
       "      <th>4</th>\n",
       "      <td>001E72F50D1C48FA</td>\n",
       "      <td>A</td>\n",
       "      <td>interface_eu_test</td>\n",
       "      <td>Mac</td>\n",
       "    </tr>\n",
       "  </tbody>\n",
       "</table>\n",
       "</div>"
      ],
      "text/plain": [
       "            user_id group                  ab_test   device\n",
       "0  0002CE61FF2C4011     B        interface_eu_test      Mac\n",
       "1  001064FEAAB631A1     B  recommender_system_test  Android\n",
       "2  001064FEAAB631A1     A        interface_eu_test  Android\n",
       "3  0010A1C096941592     A  recommender_system_test  Android\n",
       "4  001E72F50D1C48FA     A        interface_eu_test      Mac"
      ]
     },
     "execution_count": 11,
     "metadata": {},
     "output_type": "execute_result"
    }
   ],
   "source": [
    "participants.info()\n",
    "participants.head()"
   ]
  },
  {
   "cell_type": "markdown",
   "id": "ca94762f",
   "metadata": {},
   "source": [
    "В датафрейме 4 столбца и 14524 строк, пропусков в данных нет. По данным видно, что некоторые пользователи участвуют в нескольких тестах одновременно. Для того чтобы обеспечить независимость выборок, таких пользователей нужно будет искючить."
   ]
  },
  {
   "cell_type": "code",
   "execution_count": 12,
   "id": "011d143b",
   "metadata": {},
   "outputs": [
    {
     "data": {
      "text/plain": [
       "887"
      ]
     },
     "execution_count": 12,
     "metadata": {},
     "output_type": "execute_result"
    }
   ],
   "source": [
    "#Проверим на дубликаты\n",
    "participants.duplicated(subset='user_id').sum()\n"
   ]
  },
  {
   "cell_type": "code",
   "execution_count": 13,
   "id": "ccb50bf1",
   "metadata": {},
   "outputs": [
    {
     "data": {
      "text/plain": [
       "0"
      ]
     },
     "execution_count": 13,
     "metadata": {},
     "output_type": "execute_result"
    }
   ],
   "source": [
    "#Удалим дубликаты\n",
    "participants=participants.drop_duplicates(subset='user_id')\n",
    "participants.duplicated().sum()"
   ]
  },
  {
   "cell_type": "code",
   "execution_count": 14,
   "id": "ccd77b37",
   "metadata": {},
   "outputs": [
    {
     "name": "stdout",
     "output_type": "stream",
     "text": [
      "<class 'pandas.core.frame.DataFrame'>\n",
      "RangeIndex: 787286 entries, 0 to 787285\n",
      "Data columns (total 4 columns):\n",
      " #   Column      Non-Null Count   Dtype         \n",
      "---  ------      --------------   -----         \n",
      " 0   user_id     787286 non-null  object        \n",
      " 1   event_dt    787286 non-null  datetime64[ns]\n",
      " 2   event_name  787286 non-null  object        \n",
      " 3   details     249022 non-null  object        \n",
      "dtypes: datetime64[ns](1), object(3)\n",
      "memory usage: 24.0+ MB\n"
     ]
    },
    {
     "data": {
      "text/html": [
       "<div>\n",
       "<style scoped>\n",
       "    .dataframe tbody tr th:only-of-type {\n",
       "        vertical-align: middle;\n",
       "    }\n",
       "\n",
       "    .dataframe tbody tr th {\n",
       "        vertical-align: top;\n",
       "    }\n",
       "\n",
       "    .dataframe thead th {\n",
       "        text-align: right;\n",
       "    }\n",
       "</style>\n",
       "<table border=\"1\" class=\"dataframe\">\n",
       "  <thead>\n",
       "    <tr style=\"text-align: right;\">\n",
       "      <th></th>\n",
       "      <th>user_id</th>\n",
       "      <th>event_dt</th>\n",
       "      <th>event_name</th>\n",
       "      <th>details</th>\n",
       "    </tr>\n",
       "  </thead>\n",
       "  <tbody>\n",
       "    <tr>\n",
       "      <th>787271</th>\n",
       "      <td>GLOBAL</td>\n",
       "      <td>2020-12-31 23:56:17</td>\n",
       "      <td>purchase</td>\n",
       "      <td>4.49</td>\n",
       "    </tr>\n",
       "    <tr>\n",
       "      <th>787272</th>\n",
       "      <td>CA617333EFAE4A10</td>\n",
       "      <td>2020-12-31 23:56:25</td>\n",
       "      <td>login</td>\n",
       "      <td>NaN</td>\n",
       "    </tr>\n",
       "    <tr>\n",
       "      <th>787273</th>\n",
       "      <td>CA617333EFAE4A10</td>\n",
       "      <td>2020-12-31 23:56:25</td>\n",
       "      <td>registration</td>\n",
       "      <td>-2.85</td>\n",
       "    </tr>\n",
       "    <tr>\n",
       "      <th>787274</th>\n",
       "      <td>GLOBAL</td>\n",
       "      <td>2020-12-31 23:56:35</td>\n",
       "      <td>product_cart</td>\n",
       "      <td>NaN</td>\n",
       "    </tr>\n",
       "    <tr>\n",
       "      <th>787275</th>\n",
       "      <td>CA617333EFAE4A10</td>\n",
       "      <td>2020-12-31 23:56:43</td>\n",
       "      <td>product_page</td>\n",
       "      <td>NaN</td>\n",
       "    </tr>\n",
       "    <tr>\n",
       "      <th>787276</th>\n",
       "      <td>B4B38B24350CD88F</td>\n",
       "      <td>2020-12-31 23:56:46</td>\n",
       "      <td>login</td>\n",
       "      <td>NaN</td>\n",
       "    </tr>\n",
       "    <tr>\n",
       "      <th>787277</th>\n",
       "      <td>10CAFD77114A4537</td>\n",
       "      <td>2020-12-31 23:56:56</td>\n",
       "      <td>registration</td>\n",
       "      <td>-4.07</td>\n",
       "    </tr>\n",
       "    <tr>\n",
       "      <th>787278</th>\n",
       "      <td>B0058FAB9B1146C2</td>\n",
       "      <td>2020-12-31 23:57:28</td>\n",
       "      <td>product_cart</td>\n",
       "      <td>NaN</td>\n",
       "    </tr>\n",
       "    <tr>\n",
       "      <th>787279</th>\n",
       "      <td>CA617333EFAE4A10</td>\n",
       "      <td>2020-12-31 23:57:31</td>\n",
       "      <td>product_page</td>\n",
       "      <td>NaN</td>\n",
       "    </tr>\n",
       "    <tr>\n",
       "      <th>787280</th>\n",
       "      <td>10CAFD77114A4537</td>\n",
       "      <td>2020-12-31 23:57:35</td>\n",
       "      <td>product_page</td>\n",
       "      <td>NaN</td>\n",
       "    </tr>\n",
       "    <tr>\n",
       "      <th>787281</th>\n",
       "      <td>1A655C280B064708</td>\n",
       "      <td>2020-12-31 23:57:44</td>\n",
       "      <td>product_page</td>\n",
       "      <td>NaN</td>\n",
       "    </tr>\n",
       "    <tr>\n",
       "      <th>787282</th>\n",
       "      <td>B77B2F4BCA134618</td>\n",
       "      <td>2020-12-31 23:58:23</td>\n",
       "      <td>registration</td>\n",
       "      <td>0.0</td>\n",
       "    </tr>\n",
       "    <tr>\n",
       "      <th>787283</th>\n",
       "      <td>GLOBAL</td>\n",
       "      <td>2020-12-31 23:58:30</td>\n",
       "      <td>product_cart</td>\n",
       "      <td>NaN</td>\n",
       "    </tr>\n",
       "    <tr>\n",
       "      <th>787284</th>\n",
       "      <td>B12AD1623E494FAD</td>\n",
       "      <td>2020-12-31 23:58:34</td>\n",
       "      <td>registration</td>\n",
       "      <td>-6.52</td>\n",
       "    </tr>\n",
       "    <tr>\n",
       "      <th>787285</th>\n",
       "      <td>5456977474344433</td>\n",
       "      <td>2020-12-31 23:59:48</td>\n",
       "      <td>registration</td>\n",
       "      <td>-3.67</td>\n",
       "    </tr>\n",
       "  </tbody>\n",
       "</table>\n",
       "</div>"
      ],
      "text/plain": [
       "                 user_id            event_dt    event_name details\n",
       "787271            GLOBAL 2020-12-31 23:56:17      purchase    4.49\n",
       "787272  CA617333EFAE4A10 2020-12-31 23:56:25         login     NaN\n",
       "787273  CA617333EFAE4A10 2020-12-31 23:56:25  registration   -2.85\n",
       "787274            GLOBAL 2020-12-31 23:56:35  product_cart     NaN\n",
       "787275  CA617333EFAE4A10 2020-12-31 23:56:43  product_page     NaN\n",
       "787276  B4B38B24350CD88F 2020-12-31 23:56:46         login     NaN\n",
       "787277  10CAFD77114A4537 2020-12-31 23:56:56  registration   -4.07\n",
       "787278  B0058FAB9B1146C2 2020-12-31 23:57:28  product_cart     NaN\n",
       "787279  CA617333EFAE4A10 2020-12-31 23:57:31  product_page     NaN\n",
       "787280  10CAFD77114A4537 2020-12-31 23:57:35  product_page     NaN\n",
       "787281  1A655C280B064708 2020-12-31 23:57:44  product_page     NaN\n",
       "787282  B77B2F4BCA134618 2020-12-31 23:58:23  registration     0.0\n",
       "787283            GLOBAL 2020-12-31 23:58:30  product_cart     NaN\n",
       "787284  B12AD1623E494FAD 2020-12-31 23:58:34  registration   -6.52\n",
       "787285  5456977474344433 2020-12-31 23:59:48  registration   -3.67"
      ]
     },
     "execution_count": 14,
     "metadata": {},
     "output_type": "execute_result"
    }
   ],
   "source": [
    "#Посмотрим информацию по датафрейму с событиями\n",
    "events.info()\n",
    "events.tail(15)"
   ]
  },
  {
   "cell_type": "markdown",
   "id": "9fbc9a4f",
   "metadata": {},
   "source": [
    "- В датафрейме 4 столбца и 787285 строк. \n",
    "\n",
    "- В столбце details около 70% пропущенных значений, что связано с данными в этом столбце. В нем отображается стоимость привлечения зарегистрировавшихся пользователей, стоимость покупки, или код региона пользователя. Так как среди событий множество просмотров страниц с товарами, то для них нет деталей. Можно сделать вывод о том, что такое большое количество пропусков говорит об особенностях сбора данных, а не об ошибке.\n",
    "\n",
    "- В столбце с идентификатором пользователя, неожиданно появилось значение GLOBAL. Вероятно, в исторических данных так отображались оффлайн пользователи или пользователи, которые не прошли регистрацию. "
   ]
  },
  {
   "cell_type": "code",
   "execution_count": 15,
   "id": "261a5a71",
   "metadata": {},
   "outputs": [
    {
     "data": {
      "text/plain": [
       "event_name\n",
       "End of Black Friday Ads Campaign          1\n",
       "Start of CIS New Year Gift Lottery        1\n",
       "Start of Christmas&New Year Promo         1\n",
       "product_cart                           9806\n",
       "product_page                          33166\n",
       "purchase                              15520\n",
       "Name: user_id, dtype: int64"
      ]
     },
     "execution_count": 15,
     "metadata": {},
     "output_type": "execute_result"
    }
   ],
   "source": [
    "#Посмотрим подробнее какие типы событий характерны для глобальных пользователей:\n",
    "events_global=events.loc[events['user_id']=='GLOBAL']\n",
    "events_global.groupby('event_name')['user_id'].count()"
   ]
  },
  {
   "cell_type": "markdown",
   "id": "8b435431",
   "metadata": {},
   "source": [
    "Видим, что у таких пользователей, нет событий с типом \"регистрация\" или \"логин\", но есть действия добавления в корзину, просмотра страницы товара и покупки. Скорее всего, идентификатора нет у незарегистрированных пользователей. Таких пользователей, придется исключить из анализа."
   ]
  },
  {
   "cell_type": "code",
   "execution_count": 16,
   "id": "67ad2ae7",
   "metadata": {},
   "outputs": [],
   "source": [
    "#Отфильруем датафрейм от незарегистрированных пользователей GLOBAL\n",
    "events=events.loc[events['user_id']!='GLOBAL']\n"
   ]
  },
  {
   "cell_type": "markdown",
   "id": "CnzA-efasUrk",
   "metadata": {
    "id": "CnzA-efasUrk"
   },
   "source": [
    "## 3. По таблице `ab_test_participants` оценим корректность проведения теста:\n",
    "\n",
    "   3\\.1 Выделим пользователей, участвующих в тесте, и проверим:\n",
    "\n",
    "   - соответствие требованиям технического задания,\n",
    "\n",
    "   - равномерность распределения пользователей по группам теста,\n",
    "\n",
    "   - отсутствие пересечений с конкурирующим тестом (нет пользователей, участвующих одновременно в двух тестовых группах)."
   ]
  },
  {
   "cell_type": "code",
   "execution_count": 17,
   "id": "aNa3zHrKslEN",
   "metadata": {
    "id": "aNa3zHrKslEN"
   },
   "outputs": [
    {
     "data": {
      "text/html": [
       "<div>\n",
       "<style scoped>\n",
       "    .dataframe tbody tr th:only-of-type {\n",
       "        vertical-align: middle;\n",
       "    }\n",
       "\n",
       "    .dataframe tbody tr th {\n",
       "        vertical-align: top;\n",
       "    }\n",
       "\n",
       "    .dataframe thead th {\n",
       "        text-align: right;\n",
       "    }\n",
       "</style>\n",
       "<table border=\"1\" class=\"dataframe\">\n",
       "  <thead>\n",
       "    <tr style=\"text-align: right;\">\n",
       "      <th></th>\n",
       "      <th>ab_test</th>\n",
       "    </tr>\n",
       "    <tr>\n",
       "      <th>user_id</th>\n",
       "      <th></th>\n",
       "    </tr>\n",
       "  </thead>\n",
       "  <tbody>\n",
       "  </tbody>\n",
       "</table>\n",
       "</div>"
      ],
      "text/plain": [
       "Empty DataFrame\n",
       "Columns: [ab_test]\n",
       "Index: []"
      ]
     },
     "execution_count": 17,
     "metadata": {},
     "output_type": "execute_result"
    }
   ],
   "source": [
    "#Проверим пересечение пользователей в рамках одного теста или участвующих одновременно в двух\n",
    "\n",
    "participants.groupby('user_id').agg({'ab_test':'nunique'}).query('ab_test>1')"
   ]
  },
  {
   "cell_type": "markdown",
   "id": "85757617",
   "metadata": {},
   "source": [
    "Видим, что теперь нет пользователей участвующих одновременно в двух тестах. Мы исключили таких пользователей, на этапе удаления дубликатов. "
   ]
  },
  {
   "cell_type": "code",
   "execution_count": 18,
   "id": "a50e3878",
   "metadata": {},
   "outputs": [
    {
     "name": "stdout",
     "output_type": "stream",
     "text": [
      "<class 'pandas.core.frame.DataFrame'>\n",
      "Int64Index: 10403 entries, 0 to 14524\n",
      "Data columns (total 4 columns):\n",
      " #   Column   Non-Null Count  Dtype \n",
      "---  ------   --------------  ----- \n",
      " 0   user_id  10403 non-null  object\n",
      " 1   group    10403 non-null  object\n",
      " 2   ab_test  10403 non-null  object\n",
      " 3   device   10403 non-null  object\n",
      "dtypes: object(4)\n",
      "memory usage: 406.4+ KB\n"
     ]
    },
    {
     "data": {
      "text/html": [
       "<div>\n",
       "<style scoped>\n",
       "    .dataframe tbody tr th:only-of-type {\n",
       "        vertical-align: middle;\n",
       "    }\n",
       "\n",
       "    .dataframe tbody tr th {\n",
       "        vertical-align: top;\n",
       "    }\n",
       "\n",
       "    .dataframe thead th {\n",
       "        text-align: right;\n",
       "    }\n",
       "</style>\n",
       "<table border=\"1\" class=\"dataframe\">\n",
       "  <thead>\n",
       "    <tr style=\"text-align: right;\">\n",
       "      <th></th>\n",
       "      <th>user_id</th>\n",
       "      <th>group</th>\n",
       "      <th>ab_test</th>\n",
       "      <th>device</th>\n",
       "    </tr>\n",
       "  </thead>\n",
       "  <tbody>\n",
       "    <tr>\n",
       "      <th>0</th>\n",
       "      <td>0002CE61FF2C4011</td>\n",
       "      <td>B</td>\n",
       "      <td>interface_eu_test</td>\n",
       "      <td>Mac</td>\n",
       "    </tr>\n",
       "    <tr>\n",
       "      <th>4</th>\n",
       "      <td>001E72F50D1C48FA</td>\n",
       "      <td>A</td>\n",
       "      <td>interface_eu_test</td>\n",
       "      <td>Mac</td>\n",
       "    </tr>\n",
       "    <tr>\n",
       "      <th>5</th>\n",
       "      <td>002412F1EB3F6E38</td>\n",
       "      <td>B</td>\n",
       "      <td>interface_eu_test</td>\n",
       "      <td>Mac</td>\n",
       "    </tr>\n",
       "    <tr>\n",
       "      <th>6</th>\n",
       "      <td>002540BE89C930FB</td>\n",
       "      <td>B</td>\n",
       "      <td>interface_eu_test</td>\n",
       "      <td>Android</td>\n",
       "    </tr>\n",
       "    <tr>\n",
       "      <th>7</th>\n",
       "      <td>0031F1B5E9FBF708</td>\n",
       "      <td>A</td>\n",
       "      <td>interface_eu_test</td>\n",
       "      <td>Android</td>\n",
       "    </tr>\n",
       "  </tbody>\n",
       "</table>\n",
       "</div>"
      ],
      "text/plain": [
       "            user_id group            ab_test   device\n",
       "0  0002CE61FF2C4011     B  interface_eu_test      Mac\n",
       "4  001E72F50D1C48FA     A  interface_eu_test      Mac\n",
       "5  002412F1EB3F6E38     B  interface_eu_test      Mac\n",
       "6  002540BE89C930FB     B  interface_eu_test  Android\n",
       "7  0031F1B5E9FBF708     A  interface_eu_test  Android"
      ]
     },
     "execution_count": 18,
     "metadata": {},
     "output_type": "execute_result"
    }
   ],
   "source": [
    "#Выделим пользователей, участвующих только в интересующем нас тесте interface_eu_test\n",
    "test_participants=participants.loc[participants['ab_test']=='interface_eu_test']\n",
    "\n",
    "test_participants.info()\n",
    "test_participants.head()"
   ]
  },
  {
   "cell_type": "code",
   "execution_count": 19,
   "id": "08cc532a",
   "metadata": {},
   "outputs": [
    {
     "data": {
      "text/html": [
       "<div>\n",
       "<style scoped>\n",
       "    .dataframe tbody tr th:only-of-type {\n",
       "        vertical-align: middle;\n",
       "    }\n",
       "\n",
       "    .dataframe tbody tr th {\n",
       "        vertical-align: top;\n",
       "    }\n",
       "\n",
       "    .dataframe thead th {\n",
       "        text-align: right;\n",
       "    }\n",
       "</style>\n",
       "<table border=\"1\" class=\"dataframe\">\n",
       "  <thead>\n",
       "    <tr style=\"text-align: right;\">\n",
       "      <th></th>\n",
       "      <th>group</th>\n",
       "      <th>user_id</th>\n",
       "    </tr>\n",
       "  </thead>\n",
       "  <tbody>\n",
       "    <tr>\n",
       "      <th>0</th>\n",
       "      <td>A</td>\n",
       "      <td>5174</td>\n",
       "    </tr>\n",
       "    <tr>\n",
       "      <th>1</th>\n",
       "      <td>B</td>\n",
       "      <td>5229</td>\n",
       "    </tr>\n",
       "  </tbody>\n",
       "</table>\n",
       "</div>"
      ],
      "text/plain": [
       "  group  user_id\n",
       "0     A     5174\n",
       "1     B     5229"
      ]
     },
     "execution_count": 19,
     "metadata": {},
     "output_type": "execute_result"
    }
   ],
   "source": [
    "#Считаем количество уникальных пользователей в каждой группе\n",
    "grp_test=test_participants.groupby(['group']).agg({\n",
    "        'user_id': 'nunique',\n",
    "    }).reset_index()\n",
    "grp_test"
   ]
  },
  {
   "cell_type": "code",
   "execution_count": 20,
   "id": "379fe740",
   "metadata": {},
   "outputs": [
    {
     "data": {
      "image/png": "[encoded data removed]",
      "text/plain": [
       "<Figure size 432x288 with 1 Axes>"
      ]
     },
     "metadata": {},
     "output_type": "display_data"
    }
   ],
   "source": [
    "#Строим график для сравнения групп по количеству пользователей\n",
    "\n",
    "plt.pie(grp_test['user_id'], labels=grp_test['group'], autopct='%1.1f%%', startangle=90)\n",
    "\n",
    "plt.legend()\n",
    "plt.title('Сравнение групп A и B по количеству пользователей')\n",
    "plt.show()"
   ]
  },
  {
   "cell_type": "code",
   "execution_count": 21,
   "id": "aa5305ba",
   "metadata": {},
   "outputs": [
    {
     "name": "stdout",
     "output_type": "stream",
     "text": [
      "(5174, 5229)\n",
      "Процентная разница между группами А и В:1.0518263530311722\n"
     ]
    }
   ],
   "source": [
    "#Посчитаем процентную разницу в количестве пользователей между группами А и В\n",
    "a=grp_test.loc[(grp_test['group']=='A')]['user_id'].sum()\n",
    "b=grp_test.loc[(grp_test['group']=='B')]['user_id'].sum()\n",
    "print(f'{a, b}')\n",
    "perc_difference=100 * abs(a-b)/b\n",
    "print(f'Процентная разница между группами А и В:{perc_difference}')"
   ]
  },
  {
   "cell_type": "markdown",
   "id": "60d042e0",
   "metadata": {},
   "source": [
    "Процентная разница между группами составляет 1%, это говорит о том что группы сопоставимы по количеству пользователей."
   ]
  },
  {
   "cell_type": "code",
   "execution_count": 22,
   "id": "19529973",
   "metadata": {},
   "outputs": [
    {
     "data": {
      "text/html": [
       "<div>\n",
       "<style scoped>\n",
       "    .dataframe tbody tr th:only-of-type {\n",
       "        vertical-align: middle;\n",
       "    }\n",
       "\n",
       "    .dataframe tbody tr th {\n",
       "        vertical-align: top;\n",
       "    }\n",
       "\n",
       "    .dataframe thead th {\n",
       "        text-align: right;\n",
       "    }\n",
       "</style>\n",
       "<table border=\"1\" class=\"dataframe\">\n",
       "  <thead>\n",
       "    <tr style=\"text-align: right;\">\n",
       "      <th></th>\n",
       "      <th>group</th>\n",
       "      <th>device</th>\n",
       "      <th>user_id</th>\n",
       "    </tr>\n",
       "  </thead>\n",
       "  <tbody>\n",
       "    <tr>\n",
       "      <th>0</th>\n",
       "      <td>A</td>\n",
       "      <td>Android</td>\n",
       "      <td>2356</td>\n",
       "    </tr>\n",
       "    <tr>\n",
       "      <th>1</th>\n",
       "      <td>A</td>\n",
       "      <td>Mac</td>\n",
       "      <td>542</td>\n",
       "    </tr>\n",
       "    <tr>\n",
       "      <th>2</th>\n",
       "      <td>A</td>\n",
       "      <td>PC</td>\n",
       "      <td>1286</td>\n",
       "    </tr>\n",
       "    <tr>\n",
       "      <th>3</th>\n",
       "      <td>A</td>\n",
       "      <td>iPhone</td>\n",
       "      <td>990</td>\n",
       "    </tr>\n",
       "    <tr>\n",
       "      <th>4</th>\n",
       "      <td>B</td>\n",
       "      <td>Android</td>\n",
       "      <td>2320</td>\n",
       "    </tr>\n",
       "    <tr>\n",
       "      <th>5</th>\n",
       "      <td>B</td>\n",
       "      <td>Mac</td>\n",
       "      <td>527</td>\n",
       "    </tr>\n",
       "    <tr>\n",
       "      <th>6</th>\n",
       "      <td>B</td>\n",
       "      <td>PC</td>\n",
       "      <td>1356</td>\n",
       "    </tr>\n",
       "    <tr>\n",
       "      <th>7</th>\n",
       "      <td>B</td>\n",
       "      <td>iPhone</td>\n",
       "      <td>1026</td>\n",
       "    </tr>\n",
       "  </tbody>\n",
       "</table>\n",
       "</div>"
      ],
      "text/plain": [
       "  group   device  user_id\n",
       "0     A  Android     2356\n",
       "1     A      Mac      542\n",
       "2     A       PC     1286\n",
       "3     A   iPhone      990\n",
       "4     B  Android     2320\n",
       "5     B      Mac      527\n",
       "6     B       PC     1356\n",
       "7     B   iPhone     1026"
      ]
     },
     "execution_count": 22,
     "metadata": {},
     "output_type": "execute_result"
    }
   ],
   "source": [
    "#Проверим равномерность разделения пользователей по устройствам\n",
    "#Группируем данные, чтобы получить количество уникальных пользователей для каждой комбинации группы и устройства\n",
    "grp_device=test_participants.groupby(['group','device'])['user_id'].nunique().reset_index()\n",
    "grp_device\n"
   ]
  },
  {
   "cell_type": "code",
   "execution_count": 23,
   "id": "6737c405",
   "metadata": {},
   "outputs": [
    {
     "data": {
      "image/png": "[encoded data removed]",
      "text/plain": [
       "<Figure size 864x432 with 1 Axes>"
      ]
     },
     "metadata": {
      "needs_background": "light"
     },
     "output_type": "display_data"
    }
   ],
   "source": [
    "#Построим график распределения пользователей по девайсам\n",
    "\n",
    "plt.figure(figsize=(12,6))\n",
    "\n",
    "sns.barplot(x='device', y='user_id', hue='group', data=grp_device)\n",
    "plt.title('Количество пользователей по типу устройства в группах A и B')\n",
    "plt.xlabel('Устройство')\n",
    "plt.ylabel('Количество уникальных пользователей')\n",
    "plt.grid(axis='y', linestyle='--', linewidth=0.5)\n",
    "plt.legend(title='Группы')\n",
    "plt.show()\n"
   ]
  },
  {
   "cell_type": "markdown",
   "id": "ebfc16bc",
   "metadata": {},
   "source": [
    "На основе проведённого анализа A/B-теста сформулируем следующие выводы:\n",
    "\n",
    "- Количество пользователей в группах практически одинаковое, процентная разница менее 1%.\n",
    "- Выборки являются независимыми, так как нет пользователей, которые принадлежали бы обеим группам/другим тестам.\n",
    "- По типу устройства, распределение пользоваетелей в контрольной и тестовой группах также достаточно равномерное.\n",
    "\n",
    "A/B-тест проходит корректно, данные подходят, для проверки гипотез."
   ]
  },
  {
   "cell_type": "markdown",
   "id": "GjulgSrlsqUU",
   "metadata": {
    "id": "GjulgSrlsqUU"
   },
   "source": [
    "3\\.2 Проанализируем данные о пользовательской активности по таблице `ab_test_events`:\n",
    "\n",
    "- оставим только события, связанные с участвующими в изучаемом тесте пользователями;"
   ]
  },
  {
   "cell_type": "code",
   "execution_count": 24,
   "id": "QMt0Ybo_swDK",
   "metadata": {
    "id": "QMt0Ybo_swDK"
   },
   "outputs": [
    {
     "name": "stdout",
     "output_type": "stream",
     "text": [
      "<class 'pandas.core.frame.DataFrame'>\n",
      "Int64Index: 76658 entries, 0 to 76657\n",
      "Data columns (total 7 columns):\n",
      " #   Column      Non-Null Count  Dtype         \n",
      "---  ------      --------------  -----         \n",
      " 0   user_id     76658 non-null  object        \n",
      " 1   group       76658 non-null  object        \n",
      " 2   ab_test     76658 non-null  object        \n",
      " 3   device      76658 non-null  object        \n",
      " 4   event_dt    76658 non-null  datetime64[ns]\n",
      " 5   event_name  76658 non-null  object        \n",
      " 6   details     20217 non-null  object        \n",
      "dtypes: datetime64[ns](1), object(6)\n",
      "memory usage: 4.7+ MB\n"
     ]
    },
    {
     "data": {
      "text/html": [
       "<div>\n",
       "<style scoped>\n",
       "    .dataframe tbody tr th:only-of-type {\n",
       "        vertical-align: middle;\n",
       "    }\n",
       "\n",
       "    .dataframe tbody tr th {\n",
       "        vertical-align: top;\n",
       "    }\n",
       "\n",
       "    .dataframe thead th {\n",
       "        text-align: right;\n",
       "    }\n",
       "</style>\n",
       "<table border=\"1\" class=\"dataframe\">\n",
       "  <thead>\n",
       "    <tr style=\"text-align: right;\">\n",
       "      <th></th>\n",
       "      <th>user_id</th>\n",
       "      <th>group</th>\n",
       "      <th>ab_test</th>\n",
       "      <th>device</th>\n",
       "      <th>event_dt</th>\n",
       "      <th>event_name</th>\n",
       "      <th>details</th>\n",
       "    </tr>\n",
       "  </thead>\n",
       "  <tbody>\n",
       "    <tr>\n",
       "      <th>0</th>\n",
       "      <td>0002CE61FF2C4011</td>\n",
       "      <td>B</td>\n",
       "      <td>interface_eu_test</td>\n",
       "      <td>Mac</td>\n",
       "      <td>2020-12-07 04:37:31</td>\n",
       "      <td>registration</td>\n",
       "      <td>-2.38</td>\n",
       "    </tr>\n",
       "    <tr>\n",
       "      <th>1</th>\n",
       "      <td>0002CE61FF2C4011</td>\n",
       "      <td>B</td>\n",
       "      <td>interface_eu_test</td>\n",
       "      <td>Mac</td>\n",
       "      <td>2020-12-07 04:37:49</td>\n",
       "      <td>login</td>\n",
       "      <td>NaN</td>\n",
       "    </tr>\n",
       "    <tr>\n",
       "      <th>2</th>\n",
       "      <td>0002CE61FF2C4011</td>\n",
       "      <td>B</td>\n",
       "      <td>interface_eu_test</td>\n",
       "      <td>Mac</td>\n",
       "      <td>2020-12-07 04:37:57</td>\n",
       "      <td>login</td>\n",
       "      <td>NaN</td>\n",
       "    </tr>\n",
       "    <tr>\n",
       "      <th>3</th>\n",
       "      <td>0002CE61FF2C4011</td>\n",
       "      <td>B</td>\n",
       "      <td>interface_eu_test</td>\n",
       "      <td>Mac</td>\n",
       "      <td>2020-12-07 04:38:54</td>\n",
       "      <td>login</td>\n",
       "      <td>NaN</td>\n",
       "    </tr>\n",
       "    <tr>\n",
       "      <th>4</th>\n",
       "      <td>0002CE61FF2C4011</td>\n",
       "      <td>B</td>\n",
       "      <td>interface_eu_test</td>\n",
       "      <td>Mac</td>\n",
       "      <td>2020-12-08 22:15:35</td>\n",
       "      <td>login</td>\n",
       "      <td>NaN</td>\n",
       "    </tr>\n",
       "  </tbody>\n",
       "</table>\n",
       "</div>"
      ],
      "text/plain": [
       "            user_id group            ab_test device            event_dt  \\\n",
       "0  0002CE61FF2C4011     B  interface_eu_test    Mac 2020-12-07 04:37:31   \n",
       "1  0002CE61FF2C4011     B  interface_eu_test    Mac 2020-12-07 04:37:49   \n",
       "2  0002CE61FF2C4011     B  interface_eu_test    Mac 2020-12-07 04:37:57   \n",
       "3  0002CE61FF2C4011     B  interface_eu_test    Mac 2020-12-07 04:38:54   \n",
       "4  0002CE61FF2C4011     B  interface_eu_test    Mac 2020-12-08 22:15:35   \n",
       "\n",
       "     event_name details  \n",
       "0  registration   -2.38  \n",
       "1         login     NaN  \n",
       "2         login     NaN  \n",
       "3         login     NaN  \n",
       "4         login     NaN  "
      ]
     },
     "execution_count": 24,
     "metadata": {},
     "output_type": "execute_result"
    }
   ],
   "source": [
    "#Объединим датасеты с пользователями и событиямио левому типу, чтобы сохранить данные о пользователях участвующих в тесте\n",
    "df=test_participants.merge(events, on='user_id', how='left')\n",
    "df.info()\n",
    "df.head()"
   ]
  },
  {
   "cell_type": "markdown",
   "id": "fBZ4DC2xswZJ",
   "metadata": {
    "id": "fBZ4DC2xswZJ"
   },
   "source": [
    "- определим горизонт анализа: рассчитаем время (лайфтайм) совершения события пользователем после регистрации и оставим только те события, которые были выполнены в течение первых семи дней с момента регистрации"
   ]
  },
  {
   "cell_type": "code",
   "execution_count": 25,
   "id": "sES4-dKts0Yb",
   "metadata": {
    "id": "sES4-dKts0Yb"
   },
   "outputs": [
    {
     "name": "stdout",
     "output_type": "stream",
     "text": [
      "Исходное количество событий: 76658\n",
      "Количество событий после фильтрации (лайфтайм <= 7 дней): 68263\n"
     ]
    },
    {
     "data": {
      "text/html": [
       "<div>\n",
       "<style scoped>\n",
       "    .dataframe tbody tr th:only-of-type {\n",
       "        vertical-align: middle;\n",
       "    }\n",
       "\n",
       "    .dataframe tbody tr th {\n",
       "        vertical-align: top;\n",
       "    }\n",
       "\n",
       "    .dataframe thead th {\n",
       "        text-align: right;\n",
       "    }\n",
       "</style>\n",
       "<table border=\"1\" class=\"dataframe\">\n",
       "  <thead>\n",
       "    <tr style=\"text-align: right;\">\n",
       "      <th></th>\n",
       "      <th>user_id</th>\n",
       "      <th>group</th>\n",
       "      <th>ab_test</th>\n",
       "      <th>device</th>\n",
       "      <th>event_dt</th>\n",
       "      <th>event_name</th>\n",
       "      <th>details</th>\n",
       "      <th>registration_dt</th>\n",
       "      <th>lifetime</th>\n",
       "    </tr>\n",
       "  </thead>\n",
       "  <tbody>\n",
       "    <tr>\n",
       "      <th>0</th>\n",
       "      <td>0002CE61FF2C4011</td>\n",
       "      <td>B</td>\n",
       "      <td>interface_eu_test</td>\n",
       "      <td>Mac</td>\n",
       "      <td>2020-12-07 04:37:31</td>\n",
       "      <td>registration</td>\n",
       "      <td>-2.38</td>\n",
       "      <td>2020-12-07 04:37:31</td>\n",
       "      <td>0</td>\n",
       "    </tr>\n",
       "    <tr>\n",
       "      <th>1</th>\n",
       "      <td>0002CE61FF2C4011</td>\n",
       "      <td>B</td>\n",
       "      <td>interface_eu_test</td>\n",
       "      <td>Mac</td>\n",
       "      <td>2020-12-07 04:37:49</td>\n",
       "      <td>login</td>\n",
       "      <td>NaN</td>\n",
       "      <td>2020-12-07 04:37:31</td>\n",
       "      <td>0</td>\n",
       "    </tr>\n",
       "    <tr>\n",
       "      <th>2</th>\n",
       "      <td>0002CE61FF2C4011</td>\n",
       "      <td>B</td>\n",
       "      <td>interface_eu_test</td>\n",
       "      <td>Mac</td>\n",
       "      <td>2020-12-07 04:37:57</td>\n",
       "      <td>login</td>\n",
       "      <td>NaN</td>\n",
       "      <td>2020-12-07 04:37:31</td>\n",
       "      <td>0</td>\n",
       "    </tr>\n",
       "    <tr>\n",
       "      <th>3</th>\n",
       "      <td>0002CE61FF2C4011</td>\n",
       "      <td>B</td>\n",
       "      <td>interface_eu_test</td>\n",
       "      <td>Mac</td>\n",
       "      <td>2020-12-07 04:38:54</td>\n",
       "      <td>login</td>\n",
       "      <td>NaN</td>\n",
       "      <td>2020-12-07 04:37:31</td>\n",
       "      <td>0</td>\n",
       "    </tr>\n",
       "    <tr>\n",
       "      <th>4</th>\n",
       "      <td>0002CE61FF2C4011</td>\n",
       "      <td>B</td>\n",
       "      <td>interface_eu_test</td>\n",
       "      <td>Mac</td>\n",
       "      <td>2020-12-08 22:15:35</td>\n",
       "      <td>login</td>\n",
       "      <td>NaN</td>\n",
       "      <td>2020-12-07 04:37:31</td>\n",
       "      <td>1</td>\n",
       "    </tr>\n",
       "  </tbody>\n",
       "</table>\n",
       "</div>"
      ],
      "text/plain": [
       "            user_id group            ab_test device            event_dt  \\\n",
       "0  0002CE61FF2C4011     B  interface_eu_test    Mac 2020-12-07 04:37:31   \n",
       "1  0002CE61FF2C4011     B  interface_eu_test    Mac 2020-12-07 04:37:49   \n",
       "2  0002CE61FF2C4011     B  interface_eu_test    Mac 2020-12-07 04:37:57   \n",
       "3  0002CE61FF2C4011     B  interface_eu_test    Mac 2020-12-07 04:38:54   \n",
       "4  0002CE61FF2C4011     B  interface_eu_test    Mac 2020-12-08 22:15:35   \n",
       "\n",
       "     event_name details     registration_dt  lifetime  \n",
       "0  registration   -2.38 2020-12-07 04:37:31         0  \n",
       "1         login     NaN 2020-12-07 04:37:31         0  \n",
       "2         login     NaN 2020-12-07 04:37:31         0  \n",
       "3         login     NaN 2020-12-07 04:37:31         0  \n",
       "4         login     NaN 2020-12-07 04:37:31         1  "
      ]
     },
     "execution_count": 25,
     "metadata": {},
     "output_type": "execute_result"
    }
   ],
   "source": [
    "df['event_dt'] = pd.to_datetime(df['event_dt'])  \n",
    "\n",
    "#Определим дату первой активности (регистрации) для каждого пользователя\n",
    "first_activity = df.groupby('user_id')['event_dt'].min().reset_index()\n",
    "first_activity.rename(columns={'event_dt': 'registration_dt'}, inplace=True)\n",
    "\n",
    "# Объединение данных с датой регистрации\n",
    "df = pd.merge(df, first_activity, on='user_id', how='left')\n",
    "\n",
    "#Расчет лайфтайма\n",
    "df['lifetime'] = (df['event_dt'] - df['registration_dt']).dt.days\n",
    "\n",
    "#Фильтруем события (оставляем только события в течение первых 7 дней)\n",
    "df_filtered = df[df['lifetime'] <= 7]\n",
    "\n",
    "# Вывод информации о результатах\n",
    "print(f\"Исходное количество событий: {len(df)}\")\n",
    "print(f\"Количество событий после фильтрации (лайфтайм <= 7 дней): {len(df_filtered)}\")\n",
    "\n",
    "df_filtered.head()"
   ]
  },
  {
   "cell_type": "markdown",
   "id": "7cf1df48",
   "metadata": {},
   "source": [
    "Оценим достаточность выборки для получения статистически значимых результатов A/B-теста. Заданные параметры:\n",
    "\n",
    "- базовый показатель конверсии — 30%,\n",
    "\n",
    "- мощность теста — 80%,\n",
    "\n",
    "- достоверность теста — 95%."
   ]
  },
  {
   "cell_type": "code",
   "execution_count": 26,
   "id": "174d6c13",
   "metadata": {},
   "outputs": [
    {
     "name": "stdout",
     "output_type": "stream",
     "text": [
      "Минимальный размер выборки для каждой группы: 3761\n",
      "Общий размер выборки: 7523\n"
     ]
    }
   ],
   "source": [
    "#Зафиксируем значения для расчета достаточности выборки\n",
    "baseline_conversion_rate = 0.3  \n",
    "mde = 0.1  \n",
    "alpha = 0.05  \n",
    "power = 0.8 \n",
    "\n",
    "new_conversion_rate = baseline_conversion_rate * (1 + mde)\n",
    "\n",
    "effect_size = proportion_effectsize(baseline_conversion_rate, new_conversion_rate)\n",
    "\n",
    "power_analysis = NormalIndPower()\n",
    "sample_size = power_analysis.solve_power(\n",
    "    effect_size=effect_size,\n",
    "    alpha=alpha,\n",
    "    power=power,\n",
    "    ratio=1\n",
    ")\n",
    "\n",
    "total_sample_size = sample_size * 2\n",
    "\n",
    "print(f\"Минимальный размер выборки для каждой группы: {int(sample_size)}\")\n",
    "print(f\"Общий размер выборки: {int(total_sample_size)}\")"
   ]
  },
  {
   "cell_type": "code",
   "execution_count": 27,
   "id": "74eee282",
   "metadata": {},
   "outputs": [
    {
     "data": {
      "text/plain": [
       "(5174, 5229)"
      ]
     },
     "execution_count": 27,
     "metadata": {},
     "output_type": "execute_result"
    }
   ],
   "source": [
    "#Создадим выборку для каждой группы\n",
    "a_df=df_filtered.loc[(df_filtered['group']=='A')]['user_id']\n",
    "b_df=df_filtered.loc[(df_filtered['group']=='B')]['user_id']\n",
    "\n",
    "count_a=a_df.nunique() \n",
    "count_b=b_df.nunique()\n",
    "\n",
    "count_a, count_b"
   ]
  },
  {
   "cell_type": "code",
   "execution_count": 28,
   "id": "8cf71b91",
   "metadata": {},
   "outputs": [
    {
     "name": "stdout",
     "output_type": "stream",
     "text": [
      "Выборка достаточна для проведения теста.\n"
     ]
    }
   ],
   "source": [
    "if count_a >= sample_size and count_b >= sample_size:\n",
    "    print(\"Выборка достаточна для проведения теста.\")\n",
    "else:\n",
    "    print(\"Выборка недостаточна. Требуется больше пользователей.\")"
   ]
  },
  {
   "cell_type": "markdown",
   "id": "SadyUDgZs0t3",
   "metadata": {
    "id": "SadyUDgZs0t3"
   },
   "source": [
    "- рассчитаем для каждой группы количество посетителей, сделавших покупку, и общее количество посетителей."
   ]
  },
  {
   "cell_type": "code",
   "execution_count": 29,
   "id": "181967dc",
   "metadata": {},
   "outputs": [
    {
     "name": "stdout",
     "output_type": "stream",
     "text": [
      "Количество уникальных пользователей для групп А и В:(5174, 5229)\n",
      "Количество уникальных пользователей совершивших покупку для групп А и В:(1487, 1618)\n",
      "Доля пользователей совершающих покупки для групп А и В:0.29, 0.31\n",
      "Увеличение конверсии в группе В по сравнению с группой А:2.20 процентных пунктов\n",
      "Относительное увеличение конверсии в группе В по сравнению с группой А:7.12 %\n"
     ]
    }
   ],
   "source": [
    "#Отфильтруем датасет по пользователям, совершающим покупки\n",
    "df_purchase=df_filtered.loc[(df_filtered['event_name']=='purchase')]\n",
    "\n",
    "#Количество уникальных пользователей:\n",
    "n_a = df_filtered.loc[(df_filtered['group']=='A')]['user_id'].nunique()\n",
    "n_b = df_filtered.loc[(df_filtered['group']=='B')]['user_id'].nunique()\n",
    "print(f'Количество уникальных пользователей для групп А и В:{n_a, n_b}')\n",
    "\n",
    "#Количество уникальных пользователей совершивших покупку:\n",
    "m_a = df_purchase.loc[(df_purchase['group']=='A')]['user_id'].nunique()\n",
    "m_b = df_purchase.loc[(df_purchase['group']=='B')]['user_id'].nunique()\n",
    "print(f'Количество уникальных пользователей совершивших покупку для групп А и В:{m_a, m_b}')\n",
    "\n",
    "p_a, p_b = m_a/n_a, m_b/n_b\n",
    "print(f'Доля пользователей совершающих покупки для групп А и В:{p_a:.2f}, {p_b:.2f}')\n",
    "\n",
    "conversion_percent=(p_b-p_a)*100\n",
    "print(f'Увеличение конверсии в группе В по сравнению с группой А:{conversion_percent:.2f} процентных пунктов')\n",
    "\n",
    "relative_conversion_percent= ((p_b-p_a)/p_b)*100\n",
    "print(f'Относительное увеличение конверсии в группе В по сравнению с группой А:{relative_conversion_percent:.2f} %')\n"
   ]
  },
  {
   "cell_type": "markdown",
   "id": "sh1JpGvAs5E3",
   "metadata": {
    "id": "sh1JpGvAs5E3"
   },
   "source": [
    "- По предварительным данным в тестовой группе по сравнению с контрольной, доля пользователей совершающих покупку выше на 2.2 процентных пункта из 3-х ожидаемых. Насколько эти данные статистически значимы, проверим с помощью статистического теста."
   ]
  },
  {
   "cell_type": "markdown",
   "id": "IKZ1Oo3Ws919",
   "metadata": {
    "id": "IKZ1Oo3Ws919"
   },
   "source": [
    "## 4. Проведем оценку результатов A/B-тестирования:\n"
   ]
  },
  {
   "cell_type": "markdown",
   "id": "dcUdBSmvtC-E",
   "metadata": {
    "id": "dcUdBSmvtC-E"
   },
   "source": [
    "- Проверим изменение конверсии подходящим статистическим тестом, учитывая все этапы проверки гипотез.\n",
    "\n",
    "Проверяем гипотезу:\n",
    "- упрощение интерфейса приведёт к тому, что в течение семи дней после регистрации в системе, конверсия зарегистрированных пользователей в покупателей увеличится, как минимум, на три процентных пункта.\n",
    "\n",
    "Сформулируем гипотезу для проверки:\n",
    "- Нулевая гипотеза H₀: Конверсия в покупку пользователей контрольной и тестовой групп не различаются.\n",
    "\n",
    "- Альтернативная гипотеза H₁: Конверсия в покупку пользователей с новым интерфейсом больше, и это различие статистически значимо.\n"
   ]
  },
  {
   "cell_type": "code",
   "execution_count": 30,
   "id": "l_KOziBQtL3t",
   "metadata": {
    "id": "l_KOziBQtL3t"
   },
   "outputs": [
    {
     "name": "stdout",
     "output_type": "stream",
     "text": [
      "n_a=5174, n_b=5229\n",
      "m_a=1487, m_b=1618\n",
      "p_a=0.2873985311171241, p_b=0.30942818894626123\n",
      "Предпосылка о достаточном количестве данных выполняется!\n"
     ]
    }
   ],
   "source": [
    "#Проверим, выполняется ли предпослыка о достаточном размере выборок\n",
    "\n",
    "print(f'n_a={n_a}, n_b={n_b}')\n",
    "\n",
    "\n",
    "print(f'm_a={m_a}, m_b={m_b}')\n",
    "\n",
    "\n",
    "print(f'p_a={p_a}, p_b={p_b}')\n",
    "\n",
    "\n",
    "if (p_a*n_a > 10)and((1-p_a)*n_a > 10)and(p_b*n_b > 10)and((1-p_b)*n_b > 10):\n",
    "    print('Предпосылка о достаточном количестве данных выполняется!')\n",
    "else:\n",
    "    print('Предпосылка о достаточном количестве данных НЕ выполняется!')"
   ]
  },
  {
   "cell_type": "code",
   "execution_count": 31,
   "id": "0a142bc7",
   "metadata": {},
   "outputs": [
    {
     "name": "stdout",
     "output_type": "stream",
     "text": [
      "pvalue=0.007041421154716094 < 0.05\n",
      "Нулевая гипотеза не находит подтверждения!\n",
      "Интерпритация: Альтернативная гипотеза, о том что в группе В, вероятность покупки больше, согласно результатам статистического теста, находит подтверждение.\n"
     ]
    }
   ],
   "source": [
    "#Используем z-тест пропорций, для проверки гипотезы\n",
    "\n",
    "stat_ztest, p_value_ztest = proportions_ztest(\n",
    "    [m_a, m_b],\n",
    "    [n_a, n_b],\n",
    "    alternative='smaller' # так как H_1: p_a < p_b\n",
    ")\n",
    "\n",
    "\n",
    "if p_value_ztest > alpha:\n",
    "    print(f'pvalue={p_value_ztest} > {alpha}')\n",
    "    print('Нулевая гипотеза находит подтверждение!')\n",
    "    print('Интерпритация: Вероятность покупки, согласно результатам статистического теста, равна для групп А и В.')\n",
    "else:\n",
    "    print(f'pvalue={p_value_ztest} < {alpha}')\n",
    "    print('Нулевая гипотеза не находит подтверждения!')\n",
    "    print('Интерпритация: Альтернативная гипотеза, о том что в группе В, вероятность покупки больше, согласно результатам статистического теста, находит подтверждение.')"
   ]
  },
  {
   "cell_type": "markdown",
   "id": "npoPPSKytKvR",
   "metadata": {
    "id": "npoPPSKytKvR"
   },
   "source": [
    "- Минимальный размер выборки для проведения теста для каждой группы: 3761. Фактически размер выборок каждой группы больше минимального. В качестве отслеживаемой метрики, использовали конверсию в покупку.\n",
    "\n",
    "- Изменение интерфейса сайта для тестовой группы, статистически значимо увеличило количество покупок по сравнению с контрольной группой. \n",
    "\n",
    "- Значение p-value=0.007041421154716094, что значительно меньше установленного уровня значимости, соответственно эффект можно назвать статистически значимым.\n",
    "\n",
    "- Конверсия выросла на 2,2 процентных пункта из 3 ожидаемых, то есть мы не достигли желаемого эффекта.\n",
    "\n",
    "- С учетом того, что пользователи жаловались на старый интерфейс, а изменения привели, к статистически значимому эффекту, рекомендуем внедрить новый интерфейс сайта на всех пользователей. Для достижения нужной конверсии необходимо следить за динамикой и при необходимости, внедрять доработки. "
   ]
  }
 ],
 "metadata": {
  "ExecuteTimeLog": [
   {
    "duration": 1224,
    "start_time": "2025-04-30T10:41:12.490Z"
   },
   {
    "duration": 63,
    "start_time": "2025-04-30T10:50:10.595Z"
   },
   {
    "duration": 47,
    "start_time": "2025-04-30T10:50:15.704Z"
   },
   {
    "duration": 55,
    "start_time": "2025-04-30T10:58:04.271Z"
   },
   {
    "duration": 68,
    "start_time": "2025-04-30T10:58:12.357Z"
   },
   {
    "duration": 7,
    "start_time": "2025-04-30T11:06:36.198Z"
   },
   {
    "duration": 7,
    "start_time": "2025-04-30T11:07:20.999Z"
   },
   {
    "duration": 7,
    "start_time": "2025-04-30T11:07:31.236Z"
   },
   {
    "duration": 5,
    "start_time": "2025-04-30T11:08:55.493Z"
   },
   {
    "duration": 13,
    "start_time": "2025-04-30T11:09:32.486Z"
   },
   {
    "duration": 18,
    "start_time": "2025-04-30T11:16:41.858Z"
   },
   {
    "duration": 11,
    "start_time": "2025-04-30T11:20:26.918Z"
   },
   {
    "duration": 107,
    "start_time": "2025-04-30T11:23:04.678Z"
   },
   {
    "duration": 12,
    "start_time": "2025-04-30T11:23:16.281Z"
   },
   {
    "duration": 17,
    "start_time": "2025-04-30T11:38:04.457Z"
   },
   {
    "duration": 8,
    "start_time": "2025-04-30T11:38:21.566Z"
   },
   {
    "duration": 9,
    "start_time": "2025-04-30T11:39:32.138Z"
   },
   {
    "duration": 13,
    "start_time": "2025-04-30T11:39:49.850Z"
   },
   {
    "duration": 16,
    "start_time": "2025-04-30T11:40:17.812Z"
   },
   {
    "duration": 18,
    "start_time": "2025-04-30T11:40:23.544Z"
   },
   {
    "duration": 22,
    "start_time": "2025-04-30T11:40:48.131Z"
   },
   {
    "duration": 1362,
    "start_time": "2025-04-30T16:16:10.466Z"
   },
   {
    "duration": 73,
    "start_time": "2025-04-30T16:16:11.830Z"
   },
   {
    "duration": 6,
    "start_time": "2025-04-30T16:16:11.904Z"
   },
   {
    "duration": 33,
    "start_time": "2025-04-30T16:16:11.911Z"
   },
   {
    "duration": 11,
    "start_time": "2025-04-30T16:16:11.947Z"
   },
   {
    "duration": 18,
    "start_time": "2025-04-30T16:16:11.960Z"
   },
   {
    "duration": 28,
    "start_time": "2025-04-30T16:16:11.980Z"
   },
   {
    "duration": 1523,
    "start_time": "2025-04-30T16:16:12.009Z"
   },
   {
    "duration": 9,
    "start_time": "2025-04-30T16:18:02.254Z"
   },
   {
    "duration": 15,
    "start_time": "2025-04-30T16:18:38.809Z"
   },
   {
    "duration": 1163,
    "start_time": "2025-04-30T16:30:36.178Z"
   },
   {
    "duration": 59,
    "start_time": "2025-04-30T16:30:37.343Z"
   },
   {
    "duration": 6,
    "start_time": "2025-04-30T16:30:37.404Z"
   },
   {
    "duration": 40,
    "start_time": "2025-04-30T16:30:37.411Z"
   },
   {
    "duration": 30,
    "start_time": "2025-04-30T16:30:37.453Z"
   },
   {
    "duration": 37,
    "start_time": "2025-04-30T16:30:37.484Z"
   },
   {
    "duration": 56,
    "start_time": "2025-04-30T16:30:37.522Z"
   },
   {
    "duration": 1553,
    "start_time": "2025-04-30T16:30:37.580Z"
   },
   {
    "duration": 73,
    "start_time": "2025-04-30T16:41:02.725Z"
   },
   {
    "duration": 20,
    "start_time": "2025-04-30T16:41:09.238Z"
   },
   {
    "duration": 289,
    "start_time": "2025-04-30T16:47:14.020Z"
   },
   {
    "duration": 494,
    "start_time": "2025-04-30T16:47:33.556Z"
   },
   {
    "duration": 516,
    "start_time": "2025-04-30T16:48:34.727Z"
   },
   {
    "duration": 574,
    "start_time": "2025-04-30T16:48:51.104Z"
   },
   {
    "duration": 2842,
    "start_time": "2025-04-30T16:49:08.271Z"
   },
   {
    "duration": 327,
    "start_time": "2025-04-30T16:49:44.250Z"
   },
   {
    "duration": 10,
    "start_time": "2025-04-30T16:52:35.329Z"
   },
   {
    "duration": 13,
    "start_time": "2025-04-30T16:53:08.525Z"
   },
   {
    "duration": 94,
    "start_time": "2025-04-30T17:58:08.210Z"
   },
   {
    "duration": 286,
    "start_time": "2025-04-30T17:58:14.235Z"
   },
   {
    "duration": 102,
    "start_time": "2025-04-30T18:01:00.587Z"
   },
   {
    "duration": 17,
    "start_time": "2025-04-30T18:01:12.943Z"
   },
   {
    "duration": 99,
    "start_time": "2025-04-30T18:01:23.633Z"
   },
   {
    "duration": 12,
    "start_time": "2025-04-30T18:01:29.457Z"
   },
   {
    "duration": 93,
    "start_time": "2025-04-30T18:02:15.041Z"
   },
   {
    "duration": 18,
    "start_time": "2025-04-30T18:02:24.844Z"
   },
   {
    "duration": 17,
    "start_time": "2025-04-30T18:02:39.368Z"
   },
   {
    "duration": 20,
    "start_time": "2025-04-30T18:02:57.873Z"
   },
   {
    "duration": 12,
    "start_time": "2025-04-30T18:03:16.051Z"
   },
   {
    "duration": 315,
    "start_time": "2025-04-30T18:04:56.052Z"
   },
   {
    "duration": 305,
    "start_time": "2025-04-30T18:05:08.746Z"
   },
   {
    "duration": 4,
    "start_time": "2025-04-30T18:17:23.549Z"
   },
   {
    "duration": 1213,
    "start_time": "2025-04-30T18:17:29.416Z"
   },
   {
    "duration": 75,
    "start_time": "2025-04-30T18:17:30.631Z"
   },
   {
    "duration": 5,
    "start_time": "2025-04-30T18:17:30.708Z"
   },
   {
    "duration": 33,
    "start_time": "2025-04-30T18:17:30.714Z"
   },
   {
    "duration": 11,
    "start_time": "2025-04-30T18:17:30.749Z"
   },
   {
    "duration": 33,
    "start_time": "2025-04-30T18:17:30.762Z"
   },
   {
    "duration": 28,
    "start_time": "2025-04-30T18:17:30.796Z"
   },
   {
    "duration": 367,
    "start_time": "2025-04-30T18:17:30.826Z"
   },
   {
    "duration": 107,
    "start_time": "2025-04-30T18:17:31.195Z"
   },
   {
    "duration": 0,
    "start_time": "2025-04-30T18:17:31.304Z"
   },
   {
    "duration": 11,
    "start_time": "2025-04-30T18:48:27.543Z"
   },
   {
    "duration": 7,
    "start_time": "2025-04-30T18:48:39.384Z"
   },
   {
    "duration": 6,
    "start_time": "2025-04-30T18:51:44.306Z"
   },
   {
    "duration": 6,
    "start_time": "2025-04-30T18:52:22.808Z"
   },
   {
    "duration": 9,
    "start_time": "2025-04-30T18:58:40.952Z"
   },
   {
    "duration": 6,
    "start_time": "2025-04-30T18:59:20.318Z"
   },
   {
    "duration": 14,
    "start_time": "2025-04-30T18:59:48.266Z"
   },
   {
    "duration": 7,
    "start_time": "2025-04-30T18:59:56.106Z"
   },
   {
    "duration": 6,
    "start_time": "2025-04-30T19:00:16.851Z"
   },
   {
    "duration": 6,
    "start_time": "2025-04-30T19:01:00.126Z"
   },
   {
    "duration": 1404,
    "start_time": "2025-05-01T08:42:04.322Z"
   },
   {
    "duration": 89,
    "start_time": "2025-05-01T08:42:05.728Z"
   },
   {
    "duration": 6,
    "start_time": "2025-05-01T08:42:05.819Z"
   },
   {
    "duration": 96,
    "start_time": "2025-05-01T08:42:05.826Z"
   },
   {
    "duration": 37,
    "start_time": "2025-05-01T08:42:05.924Z"
   },
   {
    "duration": 47,
    "start_time": "2025-05-01T08:42:05.963Z"
   },
   {
    "duration": 186,
    "start_time": "2025-05-01T08:42:06.012Z"
   },
   {
    "duration": 355,
    "start_time": "2025-05-01T08:42:06.200Z"
   },
   {
    "duration": 13,
    "start_time": "2025-05-01T08:42:06.556Z"
   },
   {
    "duration": 1587,
    "start_time": "2025-05-01T08:42:06.571Z"
   },
   {
    "duration": 13,
    "start_time": "2025-05-01T08:48:35.062Z"
   },
   {
    "duration": 12,
    "start_time": "2025-05-01T08:55:52.069Z"
   },
   {
    "duration": 12,
    "start_time": "2025-05-01T08:56:05.797Z"
   },
   {
    "duration": 23,
    "start_time": "2025-05-01T10:43:54.589Z"
   },
   {
    "duration": 107,
    "start_time": "2025-05-01T11:22:13.086Z"
   },
   {
    "duration": 11,
    "start_time": "2025-05-01T11:22:24.515Z"
   },
   {
    "duration": 13,
    "start_time": "2025-05-01T11:22:35.555Z"
   },
   {
    "duration": 27,
    "start_time": "2025-05-01T11:22:52.438Z"
   },
   {
    "duration": 102,
    "start_time": "2025-05-01T11:31:56.124Z"
   },
   {
    "duration": 19,
    "start_time": "2025-05-01T11:40:19.618Z"
   },
   {
    "duration": 20,
    "start_time": "2025-05-01T11:43:33.225Z"
   },
   {
    "duration": 6,
    "start_time": "2025-05-01T11:44:51.308Z"
   },
   {
    "duration": 22,
    "start_time": "2025-05-01T11:45:11.475Z"
   },
   {
    "duration": 24,
    "start_time": "2025-05-01T11:47:08.191Z"
   },
   {
    "duration": 9,
    "start_time": "2025-05-01T11:55:22.815Z"
   },
   {
    "duration": 7,
    "start_time": "2025-05-01T11:55:38.914Z"
   },
   {
    "duration": 9,
    "start_time": "2025-05-01T12:07:45.661Z"
   },
   {
    "duration": 27,
    "start_time": "2025-05-01T12:09:47.316Z"
   },
   {
    "duration": 134,
    "start_time": "2025-05-01T12:10:13.197Z"
   },
   {
    "duration": 14,
    "start_time": "2025-05-01T12:12:22.149Z"
   },
   {
    "duration": 18,
    "start_time": "2025-05-01T12:12:31.355Z"
   },
   {
    "duration": 129,
    "start_time": "2025-05-01T12:20:21.769Z"
   },
   {
    "duration": 134,
    "start_time": "2025-05-01T12:21:21.361Z"
   },
   {
    "duration": 131,
    "start_time": "2025-05-01T12:21:32.862Z"
   },
   {
    "duration": 134,
    "start_time": "2025-05-01T12:23:18.931Z"
   },
   {
    "duration": 131,
    "start_time": "2025-05-01T12:23:29.031Z"
   },
   {
    "duration": 118,
    "start_time": "2025-05-01T12:53:04.738Z"
   },
   {
    "duration": 81,
    "start_time": "2025-05-01T12:53:12.733Z"
   },
   {
    "duration": 65,
    "start_time": "2025-05-01T12:53:58.798Z"
   },
   {
    "duration": 75,
    "start_time": "2025-05-01T12:54:05.419Z"
   },
   {
    "duration": 83,
    "start_time": "2025-05-01T12:54:55.206Z"
   },
   {
    "duration": 1211,
    "start_time": "2025-05-01T13:12:27.409Z"
   },
   {
    "duration": 68,
    "start_time": "2025-05-01T13:12:28.623Z"
   },
   {
    "duration": 5,
    "start_time": "2025-05-01T13:12:28.693Z"
   },
   {
    "duration": 23,
    "start_time": "2025-05-01T13:12:28.700Z"
   },
   {
    "duration": 11,
    "start_time": "2025-05-01T13:12:28.725Z"
   },
   {
    "duration": 9,
    "start_time": "2025-05-01T13:12:28.738Z"
   },
   {
    "duration": 13,
    "start_time": "2025-05-01T13:12:28.749Z"
   },
   {
    "duration": 363,
    "start_time": "2025-05-01T13:12:28.764Z"
   },
   {
    "duration": 12,
    "start_time": "2025-05-01T13:12:29.129Z"
   },
   {
    "duration": 1745,
    "start_time": "2025-05-01T13:12:29.142Z"
   },
   {
    "duration": 25,
    "start_time": "2025-05-01T13:12:30.888Z"
   },
   {
    "duration": 10,
    "start_time": "2025-05-01T13:12:30.915Z"
   },
   {
    "duration": 17,
    "start_time": "2025-05-01T13:12:30.927Z"
   },
   {
    "duration": 160,
    "start_time": "2025-05-01T13:12:30.947Z"
   },
   {
    "duration": 96,
    "start_time": "2025-05-01T13:12:31.108Z"
   },
   {
    "duration": 25,
    "start_time": "2025-05-01T13:19:36.804Z"
   },
   {
    "duration": 17,
    "start_time": "2025-05-01T13:20:13.536Z"
   },
   {
    "duration": 1234,
    "start_time": "2025-05-01T13:20:18.986Z"
   },
   {
    "duration": 89,
    "start_time": "2025-05-01T13:20:20.222Z"
   },
   {
    "duration": 6,
    "start_time": "2025-05-01T13:20:20.312Z"
   },
   {
    "duration": 19,
    "start_time": "2025-05-01T13:20:20.319Z"
   },
   {
    "duration": 11,
    "start_time": "2025-05-01T13:20:20.341Z"
   },
   {
    "duration": 19,
    "start_time": "2025-05-01T13:20:20.354Z"
   },
   {
    "duration": 33,
    "start_time": "2025-05-01T13:20:20.375Z"
   },
   {
    "duration": 357,
    "start_time": "2025-05-01T13:20:20.409Z"
   },
   {
    "duration": 12,
    "start_time": "2025-05-01T13:20:20.768Z"
   },
   {
    "duration": 1611,
    "start_time": "2025-05-01T13:20:20.782Z"
   },
   {
    "duration": 23,
    "start_time": "2025-05-01T13:20:22.395Z"
   },
   {
    "duration": 9,
    "start_time": "2025-05-01T13:20:22.420Z"
   },
   {
    "duration": 24,
    "start_time": "2025-05-01T13:20:22.431Z"
   },
   {
    "duration": 147,
    "start_time": "2025-05-01T13:20:22.458Z"
   },
   {
    "duration": 76,
    "start_time": "2025-05-01T13:20:22.606Z"
   },
   {
    "duration": 35,
    "start_time": "2025-05-01T13:20:22.683Z"
   },
   {
    "duration": 104,
    "start_time": "2025-05-01T13:29:51.736Z"
   },
   {
    "duration": 21,
    "start_time": "2025-05-01T13:29:59.269Z"
   },
   {
    "duration": 15,
    "start_time": "2025-05-01T13:31:47.559Z"
   },
   {
    "duration": 1066,
    "start_time": "2025-05-01T13:32:15.141Z"
   },
   {
    "duration": 137,
    "start_time": "2025-05-01T13:32:35.981Z"
   },
   {
    "duration": 7,
    "start_time": "2025-05-01T13:33:15.822Z"
   },
   {
    "duration": 15,
    "start_time": "2025-05-01T13:36:55.404Z"
   },
   {
    "duration": 12,
    "start_time": "2025-05-01T13:40:45.920Z"
   },
   {
    "duration": 183,
    "start_time": "2025-05-01T13:41:02.066Z"
   },
   {
    "duration": 177,
    "start_time": "2025-05-01T13:49:00.064Z"
   },
   {
    "duration": 1239,
    "start_time": "2025-05-01T13:52:28.910Z"
   },
   {
    "duration": 60,
    "start_time": "2025-05-01T13:52:30.152Z"
   },
   {
    "duration": 6,
    "start_time": "2025-05-01T13:52:30.214Z"
   },
   {
    "duration": 58,
    "start_time": "2025-05-01T13:52:30.221Z"
   },
   {
    "duration": 40,
    "start_time": "2025-05-01T13:52:30.282Z"
   },
   {
    "duration": 35,
    "start_time": "2025-05-01T13:52:30.323Z"
   },
   {
    "duration": 46,
    "start_time": "2025-05-01T13:52:30.360Z"
   },
   {
    "duration": 371,
    "start_time": "2025-05-01T13:52:30.408Z"
   },
   {
    "duration": 26,
    "start_time": "2025-05-01T13:52:30.781Z"
   },
   {
    "duration": 1680,
    "start_time": "2025-05-01T13:52:30.809Z"
   },
   {
    "duration": 29,
    "start_time": "2025-05-01T13:52:32.491Z"
   },
   {
    "duration": 20,
    "start_time": "2025-05-01T13:52:32.522Z"
   },
   {
    "duration": 45,
    "start_time": "2025-05-01T13:52:32.544Z"
   },
   {
    "duration": 247,
    "start_time": "2025-05-01T13:52:32.592Z"
   },
   {
    "duration": 186,
    "start_time": "2025-05-01T13:52:32.841Z"
   },
   {
    "duration": 77,
    "start_time": "2025-05-01T13:52:33.028Z"
   },
   {
    "duration": 20,
    "start_time": "2025-05-01T13:52:33.107Z"
   },
   {
    "duration": 75,
    "start_time": "2025-05-01T13:52:33.129Z"
   },
   {
    "duration": 298,
    "start_time": "2025-05-01T13:52:33.206Z"
   },
   {
    "duration": 7,
    "start_time": "2025-05-01T13:52:33.506Z"
   },
   {
    "duration": 125,
    "start_time": "2025-05-01T13:52:33.514Z"
   },
   {
    "duration": 76,
    "start_time": "2025-05-01T13:52:33.640Z"
   },
   {
    "duration": 127,
    "start_time": "2025-05-01T13:53:41.704Z"
   },
   {
    "duration": 189,
    "start_time": "2025-05-01T13:54:11.922Z"
   },
   {
    "duration": 197,
    "start_time": "2025-05-01T13:54:22.777Z"
   },
   {
    "duration": 199,
    "start_time": "2025-05-01T13:54:38.390Z"
   },
   {
    "duration": 200,
    "start_time": "2025-05-01T13:55:38.814Z"
   },
   {
    "duration": 97,
    "start_time": "2025-05-01T14:18:35.133Z"
   },
   {
    "duration": 1270,
    "start_time": "2025-05-01T14:19:04.302Z"
   },
   {
    "duration": 72,
    "start_time": "2025-05-01T14:19:05.575Z"
   },
   {
    "duration": 8,
    "start_time": "2025-05-01T14:19:05.649Z"
   },
   {
    "duration": 44,
    "start_time": "2025-05-01T14:19:05.659Z"
   },
   {
    "duration": 13,
    "start_time": "2025-05-01T14:19:05.706Z"
   },
   {
    "duration": 10,
    "start_time": "2025-05-01T14:19:05.721Z"
   },
   {
    "duration": 23,
    "start_time": "2025-05-01T14:19:05.733Z"
   },
   {
    "duration": 373,
    "start_time": "2025-05-01T14:19:05.758Z"
   },
   {
    "duration": 13,
    "start_time": "2025-05-01T14:19:06.133Z"
   },
   {
    "duration": 1639,
    "start_time": "2025-05-01T14:19:06.148Z"
   },
   {
    "duration": 24,
    "start_time": "2025-05-01T14:19:07.789Z"
   },
   {
    "duration": 11,
    "start_time": "2025-05-01T14:19:07.815Z"
   },
   {
    "duration": 27,
    "start_time": "2025-05-01T14:19:07.828Z"
   },
   {
    "duration": 140,
    "start_time": "2025-05-01T14:19:07.857Z"
   },
   {
    "duration": 76,
    "start_time": "2025-05-01T14:19:07.999Z"
   },
   {
    "duration": 114,
    "start_time": "2025-05-01T14:19:08.076Z"
   },
   {
    "duration": 46,
    "start_time": "2025-05-01T14:19:08.191Z"
   },
   {
    "duration": 30,
    "start_time": "2025-05-01T14:19:08.241Z"
   },
   {
    "duration": 39,
    "start_time": "2025-05-01T14:19:08.273Z"
   },
   {
    "duration": 140,
    "start_time": "2025-05-01T14:19:08.314Z"
   },
   {
    "duration": 6,
    "start_time": "2025-05-01T14:19:08.456Z"
   },
   {
    "duration": 62,
    "start_time": "2025-05-01T14:19:08.464Z"
   },
   {
    "duration": 251,
    "start_time": "2025-05-01T14:19:08.528Z"
   },
   {
    "duration": 229,
    "start_time": "2025-05-01T14:33:24.201Z"
   },
   {
    "duration": 226,
    "start_time": "2025-05-01T14:33:42.984Z"
   },
   {
    "duration": 61,
    "start_time": "2025-05-01T14:50:41.175Z"
   },
   {
    "duration": 1131,
    "start_time": "2025-05-01T14:52:33.239Z"
   },
   {
    "duration": 1238,
    "start_time": "2025-05-01T14:53:15.312Z"
   },
   {
    "duration": 109,
    "start_time": "2025-05-01T14:53:16.552Z"
   },
   {
    "duration": 6,
    "start_time": "2025-05-01T14:53:16.663Z"
   },
   {
    "duration": 41,
    "start_time": "2025-05-01T14:53:16.670Z"
   },
   {
    "duration": 12,
    "start_time": "2025-05-01T14:53:16.713Z"
   },
   {
    "duration": 11,
    "start_time": "2025-05-01T14:53:16.727Z"
   },
   {
    "duration": 14,
    "start_time": "2025-05-01T14:53:16.740Z"
   },
   {
    "duration": 374,
    "start_time": "2025-05-01T14:53:16.756Z"
   },
   {
    "duration": 13,
    "start_time": "2025-05-01T14:53:17.132Z"
   },
   {
    "duration": 1780,
    "start_time": "2025-05-01T14:53:17.146Z"
   },
   {
    "duration": 21,
    "start_time": "2025-05-01T14:53:18.928Z"
   },
   {
    "duration": 9,
    "start_time": "2025-05-01T14:53:18.951Z"
   },
   {
    "duration": 16,
    "start_time": "2025-05-01T14:53:18.962Z"
   },
   {
    "duration": 139,
    "start_time": "2025-05-01T14:53:19.006Z"
   },
   {
    "duration": 77,
    "start_time": "2025-05-01T14:53:19.147Z"
   },
   {
    "duration": 105,
    "start_time": "2025-05-01T14:53:19.226Z"
   },
   {
    "duration": 23,
    "start_time": "2025-05-01T14:53:19.333Z"
   },
   {
    "duration": 20,
    "start_time": "2025-05-01T14:53:19.358Z"
   },
   {
    "duration": 14,
    "start_time": "2025-05-01T14:53:19.403Z"
   },
   {
    "duration": 148,
    "start_time": "2025-05-01T14:53:19.419Z"
   },
   {
    "duration": 7,
    "start_time": "2025-05-01T14:53:19.569Z"
   },
   {
    "duration": 33,
    "start_time": "2025-05-01T14:53:19.578Z"
   },
   {
    "duration": 206,
    "start_time": "2025-05-01T14:53:19.614Z"
   },
   {
    "duration": 279,
    "start_time": "2025-05-01T14:53:19.822Z"
   },
   {
    "duration": 67,
    "start_time": "2025-05-01T14:53:20.104Z"
   },
   {
    "duration": 114,
    "start_time": "2025-05-01T14:57:57.434Z"
   },
   {
    "duration": 18,
    "start_time": "2025-05-01T14:58:05.355Z"
   },
   {
    "duration": 4,
    "start_time": "2025-05-01T14:58:07.397Z"
   },
   {
    "duration": 11,
    "start_time": "2025-05-01T15:14:57.144Z"
   },
   {
    "duration": 10,
    "start_time": "2025-05-01T15:16:30.288Z"
   },
   {
    "duration": 15,
    "start_time": "2025-05-01T15:17:38.115Z"
   },
   {
    "duration": 10,
    "start_time": "2025-05-01T15:21:28.323Z"
   },
   {
    "duration": 10,
    "start_time": "2025-05-01T15:21:55.692Z"
   },
   {
    "duration": 22008,
    "start_time": "2025-05-01T15:24:01.640Z"
   },
   {
    "duration": 17,
    "start_time": "2025-05-01T15:24:34.527Z"
   },
   {
    "duration": 1443,
    "start_time": "2025-05-01T15:24:50.331Z"
   },
   {
    "duration": 63,
    "start_time": "2025-05-01T15:24:51.776Z"
   },
   {
    "duration": 229,
    "start_time": "2025-05-01T15:24:51.840Z"
   },
   {
    "duration": 23,
    "start_time": "2025-05-01T15:24:52.071Z"
   },
   {
    "duration": 11,
    "start_time": "2025-05-01T15:24:52.096Z"
   },
   {
    "duration": 17,
    "start_time": "2025-05-01T15:24:52.109Z"
   },
   {
    "duration": 22,
    "start_time": "2025-05-01T15:24:52.128Z"
   },
   {
    "duration": 338,
    "start_time": "2025-05-01T15:24:52.152Z"
   },
   {
    "duration": 19,
    "start_time": "2025-05-01T15:24:52.492Z"
   },
   {
    "duration": 1630,
    "start_time": "2025-05-01T15:24:52.513Z"
   },
   {
    "duration": 17,
    "start_time": "2025-05-01T15:24:54.145Z"
   },
   {
    "duration": 27,
    "start_time": "2025-05-01T15:24:54.164Z"
   },
   {
    "duration": 39,
    "start_time": "2025-05-01T15:24:54.193Z"
   },
   {
    "duration": 114,
    "start_time": "2025-05-01T15:24:54.235Z"
   },
   {
    "duration": 87,
    "start_time": "2025-05-01T15:24:54.351Z"
   },
   {
    "duration": 145,
    "start_time": "2025-05-01T15:24:54.440Z"
   },
   {
    "duration": 20,
    "start_time": "2025-05-01T15:24:54.587Z"
   },
   {
    "duration": 16,
    "start_time": "2025-05-01T15:24:54.609Z"
   },
   {
    "duration": 12,
    "start_time": "2025-05-01T15:24:54.627Z"
   },
   {
    "duration": 164,
    "start_time": "2025-05-01T15:24:54.641Z"
   },
   {
    "duration": 6,
    "start_time": "2025-05-01T15:24:54.807Z"
   },
   {
    "duration": 36,
    "start_time": "2025-05-01T15:24:54.815Z"
   },
   {
    "duration": 203,
    "start_time": "2025-05-01T15:24:54.852Z"
   },
   {
    "duration": 202,
    "start_time": "2025-05-01T15:24:55.057Z"
   },
   {
    "duration": 170,
    "start_time": "2025-05-01T15:24:55.261Z"
   },
   {
    "duration": 3241,
    "start_time": "2025-05-01T15:24:55.432Z"
   },
   {
    "duration": 122,
    "start_time": "2025-05-01T15:24:58.676Z"
   },
   {
    "duration": 0,
    "start_time": "2025-05-01T15:24:58.800Z"
   },
   {
    "duration": 0,
    "start_time": "2025-05-01T15:24:58.801Z"
   },
   {
    "duration": 0,
    "start_time": "2025-05-01T15:24:58.803Z"
   },
   {
    "duration": 11,
    "start_time": "2025-05-01T15:26:04.514Z"
   },
   {
    "duration": 13,
    "start_time": "2025-05-01T15:26:08.423Z"
   },
   {
    "duration": 13,
    "start_time": "2025-05-01T15:27:27.216Z"
   },
   {
    "duration": 11,
    "start_time": "2025-05-01T15:27:41.858Z"
   },
   {
    "duration": 12,
    "start_time": "2025-05-01T15:28:06.549Z"
   },
   {
    "duration": 1433,
    "start_time": "2025-05-01T15:28:48.414Z"
   },
   {
    "duration": 70,
    "start_time": "2025-05-01T15:28:49.849Z"
   },
   {
    "duration": 5,
    "start_time": "2025-05-01T15:28:49.920Z"
   },
   {
    "duration": 16,
    "start_time": "2025-05-01T15:28:49.927Z"
   },
   {
    "duration": 11,
    "start_time": "2025-05-01T15:28:49.946Z"
   },
   {
    "duration": 9,
    "start_time": "2025-05-01T15:28:49.959Z"
   },
   {
    "duration": 112,
    "start_time": "2025-05-01T15:28:49.970Z"
   },
   {
    "duration": 322,
    "start_time": "2025-05-01T15:28:50.084Z"
   },
   {
    "duration": 14,
    "start_time": "2025-05-01T15:28:50.407Z"
   },
   {
    "duration": 1764,
    "start_time": "2025-05-01T15:28:50.423Z"
   },
   {
    "duration": 25,
    "start_time": "2025-05-01T15:28:52.188Z"
   },
   {
    "duration": 14,
    "start_time": "2025-05-01T15:28:52.215Z"
   },
   {
    "duration": 20,
    "start_time": "2025-05-01T15:28:52.231Z"
   },
   {
    "duration": 120,
    "start_time": "2025-05-01T15:28:52.254Z"
   },
   {
    "duration": 84,
    "start_time": "2025-05-01T15:28:52.376Z"
   },
   {
    "duration": 125,
    "start_time": "2025-05-01T15:28:52.462Z"
   },
   {
    "duration": 29,
    "start_time": "2025-05-01T15:28:52.588Z"
   },
   {
    "duration": 18,
    "start_time": "2025-05-01T15:28:52.619Z"
   },
   {
    "duration": 12,
    "start_time": "2025-05-01T15:28:52.638Z"
   },
   {
    "duration": 161,
    "start_time": "2025-05-01T15:28:52.651Z"
   },
   {
    "duration": 7,
    "start_time": "2025-05-01T15:28:52.814Z"
   },
   {
    "duration": 17,
    "start_time": "2025-05-01T15:28:52.822Z"
   },
   {
    "duration": 219,
    "start_time": "2025-05-01T15:28:52.841Z"
   },
   {
    "duration": 192,
    "start_time": "2025-05-01T15:28:53.062Z"
   },
   {
    "duration": 168,
    "start_time": "2025-05-01T15:28:53.256Z"
   },
   {
    "duration": 3160,
    "start_time": "2025-05-01T15:28:53.427Z"
   },
   {
    "duration": 120,
    "start_time": "2025-05-01T15:28:56.590Z"
   },
   {
    "duration": 0,
    "start_time": "2025-05-01T15:28:56.712Z"
   },
   {
    "duration": 0,
    "start_time": "2025-05-01T15:28:56.713Z"
   },
   {
    "duration": 0,
    "start_time": "2025-05-01T15:28:56.714Z"
   },
   {
    "duration": 19,
    "start_time": "2025-05-01T15:30:43.502Z"
   },
   {
    "duration": 21,
    "start_time": "2025-05-01T15:31:14.205Z"
   },
   {
    "duration": 5,
    "start_time": "2025-05-01T15:31:25.145Z"
   },
   {
    "duration": 24,
    "start_time": "2025-05-01T15:33:00.178Z"
   },
   {
    "duration": 1351,
    "start_time": "2025-05-01T18:35:09.121Z"
   },
   {
    "duration": 130,
    "start_time": "2025-05-01T18:35:10.474Z"
   },
   {
    "duration": 5,
    "start_time": "2025-05-01T18:35:10.605Z"
   },
   {
    "duration": 46,
    "start_time": "2025-05-01T18:35:10.611Z"
   },
   {
    "duration": 11,
    "start_time": "2025-05-01T18:35:10.659Z"
   },
   {
    "duration": 9,
    "start_time": "2025-05-01T18:35:10.672Z"
   },
   {
    "duration": 13,
    "start_time": "2025-05-01T18:35:10.683Z"
   },
   {
    "duration": 372,
    "start_time": "2025-05-01T18:35:10.697Z"
   },
   {
    "duration": 12,
    "start_time": "2025-05-01T18:35:11.070Z"
   },
   {
    "duration": 1624,
    "start_time": "2025-05-01T18:35:11.084Z"
   },
   {
    "duration": 19,
    "start_time": "2025-05-01T18:35:12.710Z"
   },
   {
    "duration": 8,
    "start_time": "2025-05-01T18:35:12.740Z"
   },
   {
    "duration": 28,
    "start_time": "2025-05-01T18:35:12.750Z"
   },
   {
    "duration": 139,
    "start_time": "2025-05-01T18:35:12.781Z"
   },
   {
    "duration": 79,
    "start_time": "2025-05-01T18:35:12.922Z"
   },
   {
    "duration": 126,
    "start_time": "2025-05-01T18:35:13.003Z"
   },
   {
    "duration": 24,
    "start_time": "2025-05-01T18:35:13.131Z"
   },
   {
    "duration": 20,
    "start_time": "2025-05-01T18:35:13.157Z"
   },
   {
    "duration": 12,
    "start_time": "2025-05-01T18:35:13.179Z"
   },
   {
    "duration": 163,
    "start_time": "2025-05-01T18:35:13.193Z"
   },
   {
    "duration": 6,
    "start_time": "2025-05-01T18:35:13.358Z"
   },
   {
    "duration": 17,
    "start_time": "2025-05-01T18:35:13.366Z"
   },
   {
    "duration": 227,
    "start_time": "2025-05-01T18:35:13.384Z"
   },
   {
    "duration": 254,
    "start_time": "2025-05-01T18:35:13.613Z"
   },
   {
    "duration": 75,
    "start_time": "2025-05-01T18:35:13.869Z"
   },
   {
    "duration": 15,
    "start_time": "2025-05-01T18:35:13.946Z"
   },
   {
    "duration": 19,
    "start_time": "2025-05-01T18:35:13.962Z"
   },
   {
    "duration": 1193,
    "start_time": "2025-05-01T18:35:44.675Z"
   },
   {
    "duration": 76,
    "start_time": "2025-05-01T18:35:45.870Z"
   },
   {
    "duration": 5,
    "start_time": "2025-05-01T18:35:45.947Z"
   },
   {
    "duration": 18,
    "start_time": "2025-05-01T18:35:45.954Z"
   },
   {
    "duration": 10,
    "start_time": "2025-05-01T18:35:45.975Z"
   },
   {
    "duration": 42,
    "start_time": "2025-05-01T18:35:45.986Z"
   },
   {
    "duration": 14,
    "start_time": "2025-05-01T18:35:46.030Z"
   },
   {
    "duration": 351,
    "start_time": "2025-05-01T18:35:46.046Z"
   },
   {
    "duration": 10,
    "start_time": "2025-05-01T18:35:46.399Z"
   },
   {
    "duration": 1486,
    "start_time": "2025-05-01T18:35:46.411Z"
   },
   {
    "duration": 19,
    "start_time": "2025-05-01T18:35:47.898Z"
   },
   {
    "duration": 25,
    "start_time": "2025-05-01T18:35:47.919Z"
   },
   {
    "duration": 15,
    "start_time": "2025-05-01T18:35:47.946Z"
   },
   {
    "duration": 142,
    "start_time": "2025-05-01T18:35:47.963Z"
   },
   {
    "duration": 86,
    "start_time": "2025-05-01T18:35:48.107Z"
   },
   {
    "duration": 100,
    "start_time": "2025-05-01T18:35:48.195Z"
   },
   {
    "duration": 22,
    "start_time": "2025-05-01T18:35:48.296Z"
   },
   {
    "duration": 34,
    "start_time": "2025-05-01T18:35:48.320Z"
   },
   {
    "duration": 12,
    "start_time": "2025-05-01T18:35:48.356Z"
   },
   {
    "duration": 143,
    "start_time": "2025-05-01T18:35:48.370Z"
   },
   {
    "duration": 6,
    "start_time": "2025-05-01T18:35:48.515Z"
   },
   {
    "duration": 26,
    "start_time": "2025-05-01T18:35:48.523Z"
   },
   {
    "duration": 188,
    "start_time": "2025-05-01T18:35:48.551Z"
   },
   {
    "duration": 254,
    "start_time": "2025-05-01T18:35:48.741Z"
   },
   {
    "duration": 69,
    "start_time": "2025-05-01T18:35:48.997Z"
   },
   {
    "duration": 19,
    "start_time": "2025-05-01T18:35:49.068Z"
   },
   {
    "duration": 16,
    "start_time": "2025-05-01T18:35:49.089Z"
   },
   {
    "duration": 25,
    "start_time": "2025-05-01T18:37:37.560Z"
   },
   {
    "duration": 23,
    "start_time": "2025-05-01T18:38:24.723Z"
   },
   {
    "duration": 26,
    "start_time": "2025-05-01T18:38:33.799Z"
   },
   {
    "duration": 38,
    "start_time": "2025-05-01T18:44:06.696Z"
   },
   {
    "duration": 15,
    "start_time": "2025-05-01T18:46:39.394Z"
   },
   {
    "duration": 25,
    "start_time": "2025-05-01T18:46:55.909Z"
   },
   {
    "duration": 4,
    "start_time": "2025-05-01T18:46:58.007Z"
   },
   {
    "duration": 111,
    "start_time": "2025-05-01T19:20:15.834Z"
   },
   {
    "duration": 16,
    "start_time": "2025-05-01T19:20:43.238Z"
   },
   {
    "duration": 13,
    "start_time": "2025-05-01T19:21:06.426Z"
   },
   {
    "duration": 4,
    "start_time": "2025-05-01T19:22:42.780Z"
   },
   {
    "duration": 21,
    "start_time": "2025-05-01T19:22:53.109Z"
   },
   {
    "duration": 16,
    "start_time": "2025-05-01T19:24:22.709Z"
   },
   {
    "duration": 14,
    "start_time": "2025-05-01T19:24:38.811Z"
   },
   {
    "duration": 25,
    "start_time": "2025-05-01T19:25:30.067Z"
   },
   {
    "duration": 25,
    "start_time": "2025-05-01T19:25:39.750Z"
   },
   {
    "duration": 26,
    "start_time": "2025-05-01T19:26:45.181Z"
   },
   {
    "duration": 23,
    "start_time": "2025-05-01T19:29:41.640Z"
   },
   {
    "duration": 26,
    "start_time": "2025-05-01T19:30:12.735Z"
   },
   {
    "duration": 76,
    "start_time": "2025-05-01T19:30:32.124Z"
   },
   {
    "duration": 75,
    "start_time": "2025-05-01T19:30:37.697Z"
   },
   {
    "duration": 27,
    "start_time": "2025-05-01T19:30:44.672Z"
   },
   {
    "duration": 28,
    "start_time": "2025-05-01T19:30:56.556Z"
   },
   {
    "duration": 28,
    "start_time": "2025-05-01T19:32:30.790Z"
   },
   {
    "duration": 27,
    "start_time": "2025-05-01T19:32:38.558Z"
   },
   {
    "duration": 43,
    "start_time": "2025-05-01T19:34:09.849Z"
   },
   {
    "duration": 30,
    "start_time": "2025-05-01T19:34:43.074Z"
   },
   {
    "duration": 27,
    "start_time": "2025-05-01T19:35:10.386Z"
   },
   {
    "duration": 35,
    "start_time": "2025-05-01T19:35:17.502Z"
   },
   {
    "duration": 33,
    "start_time": "2025-05-01T19:37:23.834Z"
   },
   {
    "duration": 29,
    "start_time": "2025-05-01T19:37:46.036Z"
   },
   {
    "duration": 31,
    "start_time": "2025-05-01T19:38:06.850Z"
   },
   {
    "duration": 30,
    "start_time": "2025-05-01T19:38:41.060Z"
   },
   {
    "duration": 29,
    "start_time": "2025-05-01T19:39:15.635Z"
   },
   {
    "duration": 34,
    "start_time": "2025-05-01T19:39:37.255Z"
   },
   {
    "duration": 1190,
    "start_time": "2025-05-01T20:37:43.853Z"
   },
   {
    "duration": 410,
    "start_time": "2025-05-01T20:37:45.045Z"
   },
   {
    "duration": 6,
    "start_time": "2025-05-01T20:37:45.458Z"
   },
   {
    "duration": 31,
    "start_time": "2025-05-01T20:37:45.466Z"
   },
   {
    "duration": 9,
    "start_time": "2025-05-01T20:37:45.499Z"
   },
   {
    "duration": 8,
    "start_time": "2025-05-01T20:37:45.510Z"
   },
   {
    "duration": 12,
    "start_time": "2025-05-01T20:37:45.539Z"
   },
   {
    "duration": 339,
    "start_time": "2025-05-01T20:37:45.553Z"
   },
   {
    "duration": 14,
    "start_time": "2025-05-01T20:37:45.894Z"
   },
   {
    "duration": 1505,
    "start_time": "2025-05-01T20:37:45.910Z"
   },
   {
    "duration": 30,
    "start_time": "2025-05-01T20:37:47.416Z"
   },
   {
    "duration": 8,
    "start_time": "2025-05-01T20:37:47.448Z"
   },
   {
    "duration": 15,
    "start_time": "2025-05-01T20:37:47.459Z"
   },
   {
    "duration": 178,
    "start_time": "2025-05-01T20:37:47.475Z"
   },
   {
    "duration": 86,
    "start_time": "2025-05-01T20:37:47.655Z"
   },
   {
    "duration": 98,
    "start_time": "2025-05-01T20:37:47.742Z"
   },
   {
    "duration": 21,
    "start_time": "2025-05-01T20:37:47.841Z"
   },
   {
    "duration": 17,
    "start_time": "2025-05-01T20:37:47.864Z"
   },
   {
    "duration": 11,
    "start_time": "2025-05-01T20:37:47.883Z"
   },
   {
    "duration": 160,
    "start_time": "2025-05-01T20:37:47.895Z"
   },
   {
    "duration": 6,
    "start_time": "2025-05-01T20:37:48.057Z"
   },
   {
    "duration": 29,
    "start_time": "2025-05-01T20:37:48.065Z"
   },
   {
    "duration": 211,
    "start_time": "2025-05-01T20:37:48.096Z"
   },
   {
    "duration": 251,
    "start_time": "2025-05-01T20:37:48.309Z"
   },
   {
    "duration": 59,
    "start_time": "2025-05-01T20:37:48.562Z"
   },
   {
    "duration": 32,
    "start_time": "2025-05-01T20:37:48.623Z"
   },
   {
    "duration": 25,
    "start_time": "2025-05-01T20:37:48.657Z"
   },
   {
    "duration": 3,
    "start_time": "2025-05-01T20:37:48.684Z"
   },
   {
    "duration": 65,
    "start_time": "2025-05-01T20:37:48.689Z"
   },
   {
    "duration": 77,
    "start_time": "2025-05-01T20:43:19.479Z"
   },
   {
    "duration": 11,
    "start_time": "2025-05-01T20:43:35.786Z"
   },
   {
    "duration": 10,
    "start_time": "2025-05-01T20:44:01.378Z"
   },
   {
    "duration": 10,
    "start_time": "2025-05-01T20:44:12.246Z"
   },
   {
    "duration": 10,
    "start_time": "2025-05-01T20:44:25.500Z"
   },
   {
    "duration": 31,
    "start_time": "2025-05-01T20:45:29.704Z"
   },
   {
    "duration": 34,
    "start_time": "2025-05-01T20:46:36.651Z"
   },
   {
    "duration": 29,
    "start_time": "2025-05-01T20:47:15.435Z"
   },
   {
    "duration": 31,
    "start_time": "2025-05-01T20:50:13.739Z"
   },
   {
    "duration": 32,
    "start_time": "2025-05-01T20:50:33.909Z"
   },
   {
    "duration": 39,
    "start_time": "2025-05-01T20:51:42.837Z"
   },
   {
    "duration": 39,
    "start_time": "2025-05-01T20:53:29.877Z"
   },
   {
    "duration": 133,
    "start_time": "2025-05-01T20:53:49.200Z"
   },
   {
    "duration": 42,
    "start_time": "2025-05-01T20:53:57.041Z"
   },
   {
    "duration": 41,
    "start_time": "2025-05-01T20:54:04.418Z"
   },
   {
    "duration": 36,
    "start_time": "2025-05-01T20:54:33.206Z"
   },
   {
    "duration": 38,
    "start_time": "2025-05-01T20:54:42.138Z"
   },
   {
    "duration": 6,
    "start_time": "2025-05-01T20:55:16.921Z"
   },
   {
    "duration": 6,
    "start_time": "2025-05-01T20:56:22.074Z"
   },
   {
    "duration": 1176,
    "start_time": "2025-05-01T21:09:34.959Z"
   },
   {
    "duration": 704,
    "start_time": "2025-05-01T21:09:36.138Z"
   },
   {
    "duration": 5,
    "start_time": "2025-05-01T21:09:36.843Z"
   },
   {
    "duration": 27,
    "start_time": "2025-05-01T21:09:36.849Z"
   },
   {
    "duration": 9,
    "start_time": "2025-05-01T21:09:36.878Z"
   },
   {
    "duration": 12,
    "start_time": "2025-05-01T21:09:36.889Z"
   },
   {
    "duration": 39,
    "start_time": "2025-05-01T21:09:36.903Z"
   },
   {
    "duration": 371,
    "start_time": "2025-05-01T21:09:36.943Z"
   },
   {
    "duration": 23,
    "start_time": "2025-05-01T21:09:37.316Z"
   },
   {
    "duration": 1874,
    "start_time": "2025-05-01T21:09:37.340Z"
   },
   {
    "duration": 27,
    "start_time": "2025-05-01T21:09:39.216Z"
   },
   {
    "duration": 7,
    "start_time": "2025-05-01T21:09:39.244Z"
   },
   {
    "duration": 15,
    "start_time": "2025-05-01T21:09:39.252Z"
   },
   {
    "duration": 135,
    "start_time": "2025-05-01T21:09:39.269Z"
   },
   {
    "duration": 82,
    "start_time": "2025-05-01T21:09:39.406Z"
   },
   {
    "duration": 99,
    "start_time": "2025-05-01T21:09:39.490Z"
   },
   {
    "duration": 21,
    "start_time": "2025-05-01T21:09:39.591Z"
   },
   {
    "duration": 35,
    "start_time": "2025-05-01T21:09:39.613Z"
   },
   {
    "duration": 11,
    "start_time": "2025-05-01T21:09:39.650Z"
   },
   {
    "duration": 143,
    "start_time": "2025-05-01T21:09:39.663Z"
   },
   {
    "duration": 6,
    "start_time": "2025-05-01T21:09:39.808Z"
   },
   {
    "duration": 32,
    "start_time": "2025-05-01T21:09:39.816Z"
   },
   {
    "duration": 181,
    "start_time": "2025-05-01T21:09:39.850Z"
   },
   {
    "duration": 244,
    "start_time": "2025-05-01T21:09:40.038Z"
   },
   {
    "duration": 75,
    "start_time": "2025-05-01T21:09:40.284Z"
   },
   {
    "duration": 15,
    "start_time": "2025-05-01T21:09:40.360Z"
   },
   {
    "duration": 26,
    "start_time": "2025-05-01T21:09:40.377Z"
   },
   {
    "duration": 36,
    "start_time": "2025-05-01T21:09:40.405Z"
   },
   {
    "duration": 45,
    "start_time": "2025-05-01T21:09:40.443Z"
   },
   {
    "duration": 5,
    "start_time": "2025-05-01T21:09:40.489Z"
   },
   {
    "duration": 5,
    "start_time": "2025-05-01T21:09:40.495Z"
   },
   {
    "duration": 1243,
    "start_time": "2025-05-01T21:59:32.835Z"
   },
   {
    "duration": 100,
    "start_time": "2025-05-01T21:59:34.080Z"
   },
   {
    "duration": 5,
    "start_time": "2025-05-01T21:59:34.182Z"
   },
   {
    "duration": 37,
    "start_time": "2025-05-01T21:59:34.188Z"
   },
   {
    "duration": 22,
    "start_time": "2025-05-01T21:59:34.227Z"
   },
   {
    "duration": 12,
    "start_time": "2025-05-01T21:59:34.251Z"
   },
   {
    "duration": 14,
    "start_time": "2025-05-01T21:59:34.265Z"
   },
   {
    "duration": 326,
    "start_time": "2025-05-01T21:59:34.280Z"
   },
   {
    "duration": 12,
    "start_time": "2025-05-01T21:59:34.608Z"
   },
   {
    "duration": 1544,
    "start_time": "2025-05-01T21:59:34.621Z"
   },
   {
    "duration": 19,
    "start_time": "2025-05-01T21:59:36.166Z"
   },
   {
    "duration": 12,
    "start_time": "2025-05-01T21:59:36.187Z"
   },
   {
    "duration": 41,
    "start_time": "2025-05-01T21:59:36.201Z"
   },
   {
    "duration": 125,
    "start_time": "2025-05-01T21:59:36.245Z"
   },
   {
    "duration": 85,
    "start_time": "2025-05-01T21:59:36.371Z"
   },
   {
    "duration": 103,
    "start_time": "2025-05-01T21:59:36.457Z"
   },
   {
    "duration": 21,
    "start_time": "2025-05-01T21:59:36.561Z"
   },
   {
    "duration": 17,
    "start_time": "2025-05-01T21:59:36.584Z"
   },
   {
    "duration": 11,
    "start_time": "2025-05-01T21:59:36.603Z"
   },
   {
    "duration": 141,
    "start_time": "2025-05-01T21:59:36.615Z"
   },
   {
    "duration": 6,
    "start_time": "2025-05-01T21:59:36.758Z"
   },
   {
    "duration": 14,
    "start_time": "2025-05-01T21:59:36.765Z"
   },
   {
    "duration": 298,
    "start_time": "2025-05-01T21:59:36.781Z"
   },
   {
    "duration": 259,
    "start_time": "2025-05-01T21:59:37.080Z"
   },
   {
    "duration": 79,
    "start_time": "2025-05-01T21:59:37.340Z"
   },
   {
    "duration": 33,
    "start_time": "2025-05-01T21:59:37.421Z"
   },
   {
    "duration": 36,
    "start_time": "2025-05-01T21:59:37.456Z"
   },
   {
    "duration": 3,
    "start_time": "2025-05-01T21:59:37.494Z"
   },
   {
    "duration": 70,
    "start_time": "2025-05-01T21:59:37.499Z"
   },
   {
    "duration": 5,
    "start_time": "2025-05-01T21:59:37.570Z"
   },
   {
    "duration": 28,
    "start_time": "2025-05-01T21:59:37.577Z"
   },
   {
    "duration": 1201,
    "start_time": "2025-05-01T22:00:27.277Z"
   },
   {
    "duration": 82,
    "start_time": "2025-05-01T22:00:28.480Z"
   },
   {
    "duration": 4,
    "start_time": "2025-05-01T22:00:28.564Z"
   },
   {
    "duration": 17,
    "start_time": "2025-05-01T22:00:28.570Z"
   },
   {
    "duration": 9,
    "start_time": "2025-05-01T22:00:28.589Z"
   },
   {
    "duration": 40,
    "start_time": "2025-05-01T22:00:28.600Z"
   },
   {
    "duration": 13,
    "start_time": "2025-05-01T22:00:28.641Z"
   },
   {
    "duration": 321,
    "start_time": "2025-05-01T22:00:28.655Z"
   },
   {
    "duration": 12,
    "start_time": "2025-05-01T22:00:28.978Z"
   },
   {
    "duration": 1452,
    "start_time": "2025-05-01T22:00:28.992Z"
   },
   {
    "duration": 19,
    "start_time": "2025-05-01T22:00:30.445Z"
   },
   {
    "duration": 41,
    "start_time": "2025-05-01T22:00:30.465Z"
   },
   {
    "duration": 30,
    "start_time": "2025-05-01T22:00:30.508Z"
   },
   {
    "duration": 126,
    "start_time": "2025-05-01T22:00:30.541Z"
   },
   {
    "duration": 85,
    "start_time": "2025-05-01T22:00:30.669Z"
   },
   {
    "duration": 103,
    "start_time": "2025-05-01T22:00:30.756Z"
   },
   {
    "duration": 36,
    "start_time": "2025-05-01T22:00:30.861Z"
   },
   {
    "duration": 22,
    "start_time": "2025-05-01T22:00:30.899Z"
   },
   {
    "duration": 33,
    "start_time": "2025-05-01T22:00:30.922Z"
   },
   {
    "duration": 145,
    "start_time": "2025-05-01T22:00:30.957Z"
   },
   {
    "duration": 7,
    "start_time": "2025-05-01T22:00:31.103Z"
   },
   {
    "duration": 33,
    "start_time": "2025-05-01T22:00:31.112Z"
   },
   {
    "duration": 203,
    "start_time": "2025-05-01T22:00:31.147Z"
   },
   {
    "duration": 270,
    "start_time": "2025-05-01T22:00:31.352Z"
   },
   {
    "duration": 85,
    "start_time": "2025-05-01T22:00:31.624Z"
   },
   {
    "duration": 41,
    "start_time": "2025-05-01T22:00:31.711Z"
   },
   {
    "duration": 68,
    "start_time": "2025-05-01T22:00:31.754Z"
   },
   {
    "duration": 4,
    "start_time": "2025-05-01T22:00:31.823Z"
   },
   {
    "duration": 47,
    "start_time": "2025-05-01T22:00:31.828Z"
   },
   {
    "duration": 6,
    "start_time": "2025-05-01T22:00:31.877Z"
   },
   {
    "duration": 48,
    "start_time": "2025-05-01T22:00:31.884Z"
   },
   {
    "duration": 1262,
    "start_time": "2025-05-02T12:50:18.100Z"
   },
   {
    "duration": 70,
    "start_time": "2025-05-02T12:50:19.364Z"
   },
   {
    "duration": 7,
    "start_time": "2025-05-02T12:50:19.435Z"
   },
   {
    "duration": 65,
    "start_time": "2025-05-02T12:50:19.444Z"
   },
   {
    "duration": 12,
    "start_time": "2025-05-02T12:50:19.511Z"
   },
   {
    "duration": 14,
    "start_time": "2025-05-02T12:50:19.525Z"
   },
   {
    "duration": 13,
    "start_time": "2025-05-02T12:50:19.541Z"
   },
   {
    "duration": 363,
    "start_time": "2025-05-02T12:50:19.556Z"
   },
   {
    "duration": 13,
    "start_time": "2025-05-02T12:50:19.921Z"
   },
   {
    "duration": 1485,
    "start_time": "2025-05-02T12:50:19.937Z"
   },
   {
    "duration": 20,
    "start_time": "2025-05-02T12:50:21.424Z"
   },
   {
    "duration": 56,
    "start_time": "2025-05-02T12:50:21.446Z"
   },
   {
    "duration": 18,
    "start_time": "2025-05-02T12:50:21.504Z"
   },
   {
    "duration": 129,
    "start_time": "2025-05-02T12:50:21.523Z"
   },
   {
    "duration": 92,
    "start_time": "2025-05-02T12:50:21.654Z"
   },
   {
    "duration": 215,
    "start_time": "2025-05-02T12:50:21.748Z"
   },
   {
    "duration": 26,
    "start_time": "2025-05-02T12:50:21.965Z"
   },
   {
    "duration": 30,
    "start_time": "2025-05-02T12:50:21.993Z"
   },
   {
    "duration": 14,
    "start_time": "2025-05-02T12:50:22.026Z"
   },
   {
    "duration": 154,
    "start_time": "2025-05-02T12:50:22.042Z"
   },
   {
    "duration": 6,
    "start_time": "2025-05-02T12:50:22.204Z"
   },
   {
    "duration": 17,
    "start_time": "2025-05-02T12:50:22.212Z"
   },
   {
    "duration": 202,
    "start_time": "2025-05-02T12:50:22.230Z"
   },
   {
    "duration": 265,
    "start_time": "2025-05-02T12:50:22.434Z"
   },
   {
    "duration": 67,
    "start_time": "2025-05-02T12:50:22.704Z"
   },
   {
    "duration": 39,
    "start_time": "2025-05-02T12:50:22.773Z"
   },
   {
    "duration": 87,
    "start_time": "2025-05-02T12:50:22.814Z"
   },
   {
    "duration": 3,
    "start_time": "2025-05-02T12:50:22.904Z"
   },
   {
    "duration": 42,
    "start_time": "2025-05-02T12:50:22.909Z"
   },
   {
    "duration": 5,
    "start_time": "2025-05-02T12:50:22.953Z"
   },
   {
    "duration": 14,
    "start_time": "2025-05-02T12:50:22.960Z"
   },
   {
    "duration": 1373,
    "start_time": "2025-05-02T13:34:38.583Z"
   },
   {
    "duration": 67,
    "start_time": "2025-05-02T13:34:39.958Z"
   },
   {
    "duration": 5,
    "start_time": "2025-05-02T13:34:40.027Z"
   },
   {
    "duration": 18,
    "start_time": "2025-05-02T13:34:40.033Z"
   },
   {
    "duration": 10,
    "start_time": "2025-05-02T13:34:40.053Z"
   },
   {
    "duration": 8,
    "start_time": "2025-05-02T13:34:40.065Z"
   },
   {
    "duration": 14,
    "start_time": "2025-05-02T13:34:40.075Z"
   },
   {
    "duration": 334,
    "start_time": "2025-05-02T13:34:40.090Z"
   },
   {
    "duration": 17,
    "start_time": "2025-05-02T13:34:40.426Z"
   },
   {
    "duration": 1475,
    "start_time": "2025-05-02T13:34:40.444Z"
   },
   {
    "duration": 27,
    "start_time": "2025-05-02T13:34:41.920Z"
   },
   {
    "duration": 15,
    "start_time": "2025-05-02T13:34:41.949Z"
   },
   {
    "duration": 16,
    "start_time": "2025-05-02T13:34:41.966Z"
   },
   {
    "duration": 135,
    "start_time": "2025-05-02T13:34:41.985Z"
   },
   {
    "duration": 78,
    "start_time": "2025-05-02T13:34:42.122Z"
   },
   {
    "duration": 94,
    "start_time": "2025-05-02T13:34:42.201Z"
   },
   {
    "duration": 19,
    "start_time": "2025-05-02T13:34:42.297Z"
   },
   {
    "duration": 32,
    "start_time": "2025-05-02T13:34:42.318Z"
   },
   {
    "duration": 10,
    "start_time": "2025-05-02T13:34:42.352Z"
   },
   {
    "duration": 149,
    "start_time": "2025-05-02T13:34:42.364Z"
   },
   {
    "duration": 6,
    "start_time": "2025-05-02T13:34:42.515Z"
   },
   {
    "duration": 22,
    "start_time": "2025-05-02T13:34:42.522Z"
   },
   {
    "duration": 196,
    "start_time": "2025-05-02T13:34:42.545Z"
   },
   {
    "duration": 236,
    "start_time": "2025-05-02T13:34:42.742Z"
   },
   {
    "duration": 71,
    "start_time": "2025-05-02T13:34:42.979Z"
   },
   {
    "duration": 14,
    "start_time": "2025-05-02T13:34:43.051Z"
   },
   {
    "duration": 25,
    "start_time": "2025-05-02T13:34:43.066Z"
   },
   {
    "duration": 3,
    "start_time": "2025-05-02T13:34:43.093Z"
   },
   {
    "duration": 69,
    "start_time": "2025-05-02T13:34:43.097Z"
   },
   {
    "duration": 5,
    "start_time": "2025-05-02T13:34:43.168Z"
   },
   {
    "duration": 7,
    "start_time": "2025-05-02T13:34:43.174Z"
   },
   {
    "duration": 131,
    "start_time": "2025-05-02T13:52:25.926Z"
   },
   {
    "duration": 36,
    "start_time": "2025-05-02T13:52:36.045Z"
   },
   {
    "duration": 1175,
    "start_time": "2025-05-02T14:06:29.368Z"
   },
   {
    "duration": 106,
    "start_time": "2025-05-02T14:06:30.545Z"
   },
   {
    "duration": 5,
    "start_time": "2025-05-02T14:06:30.652Z"
   },
   {
    "duration": 15,
    "start_time": "2025-05-02T14:06:30.659Z"
   },
   {
    "duration": 11,
    "start_time": "2025-05-02T14:06:30.676Z"
   },
   {
    "duration": 8,
    "start_time": "2025-05-02T14:06:30.688Z"
   },
   {
    "duration": 46,
    "start_time": "2025-05-02T14:06:30.697Z"
   },
   {
    "duration": 312,
    "start_time": "2025-05-02T14:06:30.744Z"
   },
   {
    "duration": 11,
    "start_time": "2025-05-02T14:06:31.058Z"
   },
   {
    "duration": 1377,
    "start_time": "2025-05-02T14:06:31.071Z"
   },
   {
    "duration": 18,
    "start_time": "2025-05-02T14:06:32.450Z"
   },
   {
    "duration": 7,
    "start_time": "2025-05-02T14:06:32.470Z"
   },
   {
    "duration": 14,
    "start_time": "2025-05-02T14:06:32.479Z"
   },
   {
    "duration": 141,
    "start_time": "2025-05-02T14:06:32.496Z"
   },
   {
    "duration": 87,
    "start_time": "2025-05-02T14:06:32.639Z"
   },
   {
    "duration": 90,
    "start_time": "2025-05-02T14:06:32.728Z"
   },
   {
    "duration": 29,
    "start_time": "2025-05-02T14:06:32.820Z"
   },
   {
    "duration": 17,
    "start_time": "2025-05-02T14:06:32.851Z"
   },
   {
    "duration": 21,
    "start_time": "2025-05-02T14:06:32.869Z"
   },
   {
    "duration": 133,
    "start_time": "2025-05-02T14:06:32.891Z"
   },
   {
    "duration": 10,
    "start_time": "2025-05-02T14:06:33.026Z"
   },
   {
    "duration": 16,
    "start_time": "2025-05-02T14:06:33.037Z"
   },
   {
    "duration": 198,
    "start_time": "2025-05-02T14:06:33.054Z"
   },
   {
    "duration": 232,
    "start_time": "2025-05-02T14:06:33.254Z"
   },
   {
    "duration": 80,
    "start_time": "2025-05-02T14:06:33.488Z"
   },
   {
    "duration": 15,
    "start_time": "2025-05-02T14:06:33.569Z"
   },
   {
    "duration": 49,
    "start_time": "2025-05-02T14:06:33.586Z"
   },
   {
    "duration": 4,
    "start_time": "2025-05-02T14:06:33.637Z"
   },
   {
    "duration": 69,
    "start_time": "2025-05-02T14:06:33.642Z"
   },
   {
    "duration": 5,
    "start_time": "2025-05-02T14:06:33.712Z"
   },
   {
    "duration": 23,
    "start_time": "2025-05-02T14:06:33.719Z"
   },
   {
    "duration": 1272,
    "start_time": "2025-05-02T18:13:53.390Z"
   },
   {
    "duration": 72,
    "start_time": "2025-05-02T18:13:54.664Z"
   },
   {
    "duration": 5,
    "start_time": "2025-05-02T18:13:54.737Z"
   },
   {
    "duration": 29,
    "start_time": "2025-05-02T18:13:54.744Z"
   },
   {
    "duration": 11,
    "start_time": "2025-05-02T18:13:54.776Z"
   },
   {
    "duration": 27,
    "start_time": "2025-05-02T18:13:54.788Z"
   },
   {
    "duration": 14,
    "start_time": "2025-05-02T18:13:54.817Z"
   },
   {
    "duration": 355,
    "start_time": "2025-05-02T18:13:54.832Z"
   },
   {
    "duration": 28,
    "start_time": "2025-05-02T18:13:55.188Z"
   },
   {
    "duration": 1622,
    "start_time": "2025-05-02T18:13:55.219Z"
   },
   {
    "duration": 19,
    "start_time": "2025-05-02T18:13:56.843Z"
   },
   {
    "duration": 14,
    "start_time": "2025-05-02T18:13:56.863Z"
   },
   {
    "duration": 44,
    "start_time": "2025-05-02T18:13:56.879Z"
   },
   {
    "duration": 134,
    "start_time": "2025-05-02T18:13:56.925Z"
   },
   {
    "duration": 82,
    "start_time": "2025-05-02T18:13:57.060Z"
   },
   {
    "duration": 105,
    "start_time": "2025-05-02T18:13:57.144Z"
   },
   {
    "duration": 24,
    "start_time": "2025-05-02T18:13:57.251Z"
   },
   {
    "duration": 43,
    "start_time": "2025-05-02T18:13:57.276Z"
   },
   {
    "duration": 62,
    "start_time": "2025-05-02T18:13:57.320Z"
   },
   {
    "duration": 127,
    "start_time": "2025-05-02T18:13:57.384Z"
   },
   {
    "duration": 9,
    "start_time": "2025-05-02T18:13:57.513Z"
   },
   {
    "duration": 22,
    "start_time": "2025-05-02T18:13:57.524Z"
   },
   {
    "duration": 211,
    "start_time": "2025-05-02T18:13:57.547Z"
   },
   {
    "duration": 269,
    "start_time": "2025-05-02T18:13:57.760Z"
   },
   {
    "duration": 85,
    "start_time": "2025-05-02T18:13:58.031Z"
   },
   {
    "duration": 18,
    "start_time": "2025-05-02T18:13:58.118Z"
   },
   {
    "duration": 29,
    "start_time": "2025-05-02T18:13:58.137Z"
   },
   {
    "duration": 4,
    "start_time": "2025-05-02T18:13:58.168Z"
   },
   {
    "duration": 92,
    "start_time": "2025-05-02T18:13:58.175Z"
   },
   {
    "duration": 6,
    "start_time": "2025-05-02T18:13:58.269Z"
   },
   {
    "duration": 38,
    "start_time": "2025-05-02T18:13:58.280Z"
   }
  ],
  "colab": {
   "provenance": [],
   "toc_visible": true
  },
  "kernelspec": {
   "display_name": "Python 3 (ipykernel)",
   "language": "python",
   "name": "python3"
  },
  "language_info": {
   "codemirror_mode": {
    "name": "ipython",
    "version": 3
   },
   "file_extension": ".py",
   "mimetype": "text/x-python",
   "name": "python",
   "nbconvert_exporter": "python",
   "pygments_lexer": "ipython3",
   "version": "3.9.7"
  },
  "toc": {
   "base_numbering": 1,
   "nav_menu": {},
   "number_sections": true,
   "sideBar": true,
   "skip_h1_title": true,
   "title_cell": "Table of Contents",
   "title_sidebar": "Contents",
   "toc_cell": false,
   "toc_position": {
    "height": "calc(100% - 180px)",
    "left": "10px",
    "top": "150px",
    "width": "310.391px"
   },
   "toc_section_display": true,
   "toc_window_display": true
  }
 },
 "nbformat": 4,
 "nbformat_minor": 5
}
